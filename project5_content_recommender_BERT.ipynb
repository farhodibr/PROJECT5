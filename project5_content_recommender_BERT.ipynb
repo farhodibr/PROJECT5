{
 "cells": [
  {
   "cell_type": "markdown",
   "id": "8a77807f92f26ee",
   "metadata": {},
   "source": []
  },
  {
   "cell_type": "markdown",
   "id": "fbc121e30a2defb3",
   "metadata": {
    "ExecuteTime": {
     "end_time": "2025-07-01T17:50:02.539335Z",
     "start_time": "2025-07-01T17:50:02.537789Z"
    }
   },
   "source": [
    "Project5"
   ]
  },
  {
   "cell_type": "code",
   "execution_count": 1,
   "id": "503d740967c8444d",
   "metadata": {
    "ExecuteTime": {
     "end_time": "2025-07-01T17:50:02.881867Z",
     "start_time": "2025-07-01T17:50:02.543647Z"
    }
   },
   "outputs": [],
   "source": [
    "# import select functions and types\n",
    "from pyspark.sql.types import IntegerType, StringType\n",
    "from pyspark.sql.functions import floor, round, monotonically_increasing_id, col\n",
    "from pyspark.sql import SparkSession\n",
    "from pyspark.ml.evaluation import RegressionEvaluator\n",
    "from pyspark.ml.recommendation import ALS\n",
    "from pyspark.sql import Row\n",
    "from pyspark import SparkFiles\n",
    "from pyspark.ml.evaluation import RegressionEvaluator\n",
    "from pyspark.ml.tuning import ParamGridBuilder, CrossValidator\n",
    "from pyspark.sql.types import StructType, StructField, StringType, IntegerType, ArrayType\n",
    "from concurrent.futures import ThreadPoolExecutor, as_completed\n",
    "\n",
    "from pyspark.ml.linalg import Vectors, VectorUDT\n",
    "from pyspark.sql.functions import udf\n",
    "from pyspark.ml.feature import Normalizer, BucketedRandomProjectionLSH\n",
    "\n",
    "from sparknlp.base import DocumentAssembler, Finisher\n",
    "from sparknlp.annotator import UniversalSentenceEncoder\n",
    "from pyspark.ml import Pipeline\n",
    "from pyspark.sql.functions import concat_ws, col\n",
    "from pyspark.ml.feature import Normalizer, BucketedRandomProjectionLSH\n",
    "\n",
    "# import modules using an alias\n",
    "import pyspark.sql.types as T\n",
    "import pyspark.sql.functions as F\n",
    "import requests\n",
    "import matplotlib.pyplot as plt\n",
    "import time\n",
    "import csv\n",
    "import os\n",
    "import pandas as pd\n",
    "\n",
    "\n",
    "\n",
    "GITHUB_URL = \"https://raw.githubusercontent.com/farhodibr/datasets/heads/main/books_recommender/\""
   ]
  },
  {
   "cell_type": "code",
   "execution_count": 2,
   "id": "5584cc20ea7f7156",
   "metadata": {
    "ExecuteTime": {
     "end_time": "2025-07-01T17:50:12.901852Z",
     "start_time": "2025-07-01T17:50:02.957866Z"
    }
   },
   "outputs": [],
   "source": [
    "from pyspark import SparkConf\n",
    "conf = SparkConf()\n",
    "conf.setMaster(\"local[*]\").setAppName(\"MySparkApp\")\n",
    "conf.set(\"spark.executor.memory\", \"10g\")\n",
    "\n",
    "\n",
    "\n",
    "spark = SparkSession.builder.config(conf=conf).getOrCreate()\n",
    "spark.sparkContext.setCheckpointDir(\"checkpoint_dir_als\")\n"
   ]
  },
  {
   "cell_type": "code",
   "execution_count": 3,
   "id": "3a161225",
   "metadata": {},
   "outputs": [],
   "source": [
    "#spark._jvm.org.apache.hadoop.util.VersionInfo.getVersion()\n",
    "#import subprocess\n",
    "#subprocess.run([\"winutils\",\"ls\"], check=True)\n",
    "\n"
   ]
  },
  {
   "cell_type": "code",
   "execution_count": 4,
   "id": "94badb39ddde1ca1",
   "metadata": {
    "ExecuteTime": {
     "end_time": "2025-07-01T17:50:21.738590Z",
     "start_time": "2025-07-01T17:50:12.955581Z"
    }
   },
   "outputs": [
    {
     "name": "stdout",
     "output_type": "stream",
     "text": [
      "+-------+----------+-----------+\n",
      "|User-ID|      ISBN|Book-Rating|\n",
      "+-------+----------+-----------+\n",
      "| 276725|034545104X|          0|\n",
      "| 276726|0155061224|          5|\n",
      "| 276727|0446520802|          0|\n",
      "| 276729|052165615X|          3|\n",
      "| 276729|0521795028|          6|\n",
      "+-------+----------+-----------+\n",
      "only showing top 5 rows\n",
      "\n"
     ]
    }
   ],
   "source": [
    "\n",
    "books_file_name = \"Books\"\n",
    "ratings_file_name = \"Ratings\"\n",
    "users_file_name = \"Users\"\n",
    "filenames = [books_file_name, ratings_file_name, users_file_name]\n",
    "\n",
    "for filename in filenames:\n",
    "    download_url = f\"{GITHUB_URL}/{filename}.csv\"\n",
    "    spark.sparkContext.addFile(download_url)\n",
    "\n",
    "ratings_df = spark.read.csv(SparkFiles.get(f\"{ratings_file_name}.csv\"),\n",
    "  header=True,\n",
    "  inferSchema=True,\n",
    "  sep=\",\")\n",
    "\n",
    "books_df = spark.read.csv(SparkFiles.get(f\"{books_file_name}.csv\"),\n",
    "  header=True,\n",
    "  inferSchema=True,\n",
    "  sep=\",\")\n",
    "\n",
    "users_df = spark.read.csv(SparkFiles.get(f\"{users_file_name}.csv\"),\n",
    "  header=True,\n",
    "  inferSchema=True,\n",
    "  sep=\",\")\n",
    "\n",
    "ratings_df.show(5)"
   ]
  },
  {
   "cell_type": "code",
   "execution_count": 5,
   "id": "b30092a16718f3e5",
   "metadata": {
    "ExecuteTime": {
     "end_time": "2025-07-01T17:55:34.877249Z",
     "start_time": "2025-07-01T17:55:30.747251Z"
    }
   },
   "outputs": [
    {
     "name": "stdout",
     "output_type": "stream",
     "text": [
      "+----------+-------+-----------+---------+---------+\n",
      "|      ISBN|User-ID|Book-Rating|userIntId|bookIntId|\n",
      "+----------+-------+-----------+---------+---------+\n",
      "|2080674722| 276733|          0|   275982|        0|\n",
      "|0060517794| 276747|          9|   133919|    18744|\n",
      "|0786013990| 276746|          0|     9804|    28964|\n",
      "| 342310538| 276745|         10|    78013|    40921|\n",
      "|034545104X| 276725|          0|   242789|    64860|\n",
      "|055356451X| 276746|          0|     9804|    90526|\n",
      "|0521795028| 276729|          6|    24942|   102491|\n",
      "|0449006522| 276746|          0|     9804|   107555|\n",
      "|0786014512| 276746|          0|     9804|   131215|\n",
      "|0451192001| 276747|          0|   133919|   142826|\n",
      "|0671537458| 276747|          9|   133919|   151387|\n",
      "|052165615X| 276729|          3|    24942|   156580|\n",
      "|0155061224| 276726|          5|   219046|   168644|\n",
      "|0553561618| 276746|          0|     9804|   173656|\n",
      "|0600570967| 276737|          6|   277429|   204294|\n",
      "|0446520802| 276727|          0|    65452|   240190|\n",
      "|3257224281| 276736|          8|   274623|   301430|\n",
      "|038550120X| 276744|          7|   237146|   301431|\n",
      "|0425115801| 276746|          0|     9804|   306388|\n",
      "|0609801279| 276747|          0|   133919|   311556|\n",
      "+----------+-------+-----------+---------+---------+\n",
      "only showing top 20 rows\n",
      "\n"
     ]
    }
   ],
   "source": [
    "# ALS data preparation - ALS good for sparse data\n",
    "\n",
    "users = users_df.select(\"User-ID\").distinct()\n",
    "# We dont wan't the same data/id to be used in different partitions, so just force use 1 partition for this\n",
    "users = users.coalesce(1)\n",
    "users = users.withColumn(\"userIntId\", monotonically_increasing_id()).persist()\n",
    "\n",
    "books = ratings_df.select(\"ISBN\").distinct()\n",
    "# We dont wan't the same data/id to be used in different partitions, so just force use 1 partition for this\n",
    "books = books.coalesce(1)\n",
    "# users_df = users_df.withColumn(\"userIntId\", monotonically_increasing_id()).persist() # use persist to keep these values the same\n",
    "books = books.withColumn(\"bookIntId\", monotonically_increasing_id()).persist()\n",
    "\n",
    "ratings_df_int_ids = ratings_df.join(users, \"User-ID\", \"left\").join(books, \"ISBN\", \"left\")\n",
    "ratings_df_int_ids.show()"
   ]
  },
  {
   "cell_type": "code",
   "execution_count": 6,
   "id": "d734ba9ba56aff14",
   "metadata": {
    "ExecuteTime": {
     "end_time": "2025-07-01T17:55:37.936139Z",
     "start_time": "2025-07-01T17:55:37.508508Z"
    }
   },
   "outputs": [
    {
     "name": "stdout",
     "output_type": "stream",
     "text": [
      "+------+------+------+\n",
      "|userId|bookId|rating|\n",
      "+------+------+------+\n",
      "|242789| 64860|     0|\n",
      "|219046|168644|     5|\n",
      "| 65452|240190|     0|\n",
      "| 24942|156580|     3|\n",
      "| 24942|102491|     6|\n",
      "|275982|     0|     0|\n",
      "|274623|301430|     8|\n",
      "|277429|204294|     6|\n",
      "|237146|301431|     7|\n",
      "| 78013| 40921|    10|\n",
      "|  9804|306388|     0|\n",
      "|  9804|107555|     0|\n",
      "|  9804|173656|     0|\n",
      "|  9804| 90526|     0|\n",
      "|  9804| 28964|     0|\n",
      "|  9804|131215|     0|\n",
      "|133919| 18744|     9|\n",
      "|133919|142826|     0|\n",
      "|133919|311556|     0|\n",
      "|133919|151387|     9|\n",
      "+------+------+------+\n",
      "only showing top 20 rows\n",
      "\n"
     ]
    }
   ],
   "source": [
    "ratings = ratings_df_int_ids.select(col(\"userIntId\").alias(\"userId\"), col(\"bookIntId\").alias(\"bookId\"), col(\"Book-Rating\").alias(\"rating\"))\n",
    "ratings.show()"
   ]
  },
  {
   "cell_type": "code",
   "execution_count": 7,
   "id": "3aca3f8dafd2a1a",
   "metadata": {
    "ExecuteTime": {
     "end_time": "2025-07-01T17:55:55.395005Z",
     "start_time": "2025-07-01T17:55:41.313508Z"
    }
   },
   "outputs": [],
   "source": [
    "# Split the ratings dataframe into training and test data\n",
    "(training_data, test_data) = ratings.randomSplit([0.7, 0.3], seed=42)\n",
    "\n",
    "# Set the ALS hyperparameters\n",
    "\n",
    "als = ALS(userCol=\"userId\", itemCol=\"bookId\", ratingCol=\"rating\", rank = 10, maxIter = 15, regParam = .1,\n",
    "          coldStartStrategy=\"drop\", nonnegative = True, implicitPrefs = False)\n",
    "\n",
    "# Fit the model to the training_data\n",
    "model = als.fit(training_data)\n",
    "\n",
    "# Generate predictions on the test_data\n",
    "test_predictions = model.transform(test_data)"
   ]
  },
  {
   "cell_type": "code",
   "execution_count": 8,
   "id": "f6b640e30f38c7a5",
   "metadata": {
    "ExecuteTime": {
     "end_time": "2025-07-01T17:50:28.738421Z",
     "start_time": "2025-07-01T17:45:36.245470Z"
    }
   },
   "outputs": [
    {
     "name": "stdout",
     "output_type": "stream",
     "text": [
      "+------+------+------+-----------+\n",
      "|userId|bookId|rating| prediction|\n",
      "+------+------+------+-----------+\n",
      "|145228|    34|     0| 0.10684448|\n",
      "| 14365|    34|     0|  5.0663733|\n",
      "|128714|    34|     0| 0.11289924|\n",
      "|130376|    34|     0| 0.41960835|\n",
      "|274200|    34|     8|  2.9773424|\n",
      "| 90440|    53|     7|  2.0651603|\n",
      "|116087|    53|     0|  1.0652473|\n",
      "|223520|    53|     9| 0.42036903|\n",
      "|273592|    53|     0|  4.7714467|\n",
      "| 74901|    53|     0|  2.2017493|\n",
      "| 82958|    53|     0| 0.95018804|\n",
      "| 28030|    65|     7|  2.9005756|\n",
      "| 37995|    65|     0|   5.167667|\n",
      "| 63123|    65|     0|    1.13513|\n",
      "| 28794|    65|     7|  2.7777786|\n",
      "|260877|    78|     0|        0.0|\n",
      "|114723|    78|     0|        0.0|\n",
      "|273592|    78|     5|  1.9608594|\n",
      "|112408|    78|     0|0.075393066|\n",
      "| 68061|    85|     0|  6.8757043|\n",
      "+------+------+------+-----------+\n",
      "only showing top 20 rows\n",
      "\n"
     ]
    }
   ],
   "source": [
    "test_predictions.show()"
   ]
  },
  {
   "cell_type": "code",
   "execution_count": 9,
   "id": "29e62c69f9e7c6da",
   "metadata": {
    "ExecuteTime": {
     "end_time": "2025-07-01T18:21:34.944046Z",
     "start_time": "2025-07-01T17:58:30.282594Z"
    }
   },
   "outputs": [
    {
     "data": {
      "text/plain": [
       "' # Hyperparameter tuning\\n\\n# Takes too long at the moment\\n# param_grid = ParamGridBuilder() #            .addGrid(als.rank, [10, 50, 75, 100]) #            .addGrid(als.maxIter, [5, 50, 100, 200]) #            .addGrid(als.regParam, [.01, .05, .1, .15]) #            .build()\\n\\nparam_grid = ParamGridBuilder()            .addGrid(als.rank, [10, 50])            .addGrid(als.maxIter, [5, 50])            .addGrid(als.regParam, [.01, .05])            .build()\\n\\n# Define evaluator as RMSE and print length of evaluator\\nevaluator = RegressionEvaluator(metricName=\"rmse\", labelCol=\"rating\", predictionCol=\"prediction\")\\n\\n# Use cross validation\\ncv = CrossValidator(estimator=als, estimatorParamMaps=param_grid, evaluator=evaluator, numFolds=5)\\n\\n# Checkpoint the training data to truncate its lineage.\\n# This is a lazy operation, it will be triggered by the .fit() call.\\ntraining_data_chkp = training_data.checkpoint()\\n\\n# Fit the cross validator on the CHECKPOINTED DataFrame.\\nmodel = cv.fit(training_data_chkp)\\n\\n# --- MODIFICATION END ---\\n\\nbest_model = model.bestModel\\n\\n\\nprint (f\"{len(param_grid)} models tested\") '"
      ]
     },
     "execution_count": 9,
     "metadata": {},
     "output_type": "execute_result"
    }
   ],
   "source": [
    "\"\"\" # Hyperparameter tuning\n",
    "\n",
    "# Takes too long at the moment\n",
    "# param_grid = ParamGridBuilder() \\\n",
    "#            .addGrid(als.rank, [10, 50, 75, 100]) \\\n",
    "#            .addGrid(als.maxIter, [5, 50, 100, 200]) \\\n",
    "#            .addGrid(als.regParam, [.01, .05, .1, .15]) \\\n",
    "#            .build()\n",
    "\n",
    "param_grid = ParamGridBuilder() \\\n",
    "           .addGrid(als.rank, [10, 50]) \\\n",
    "           .addGrid(als.maxIter, [5, 50]) \\\n",
    "           .addGrid(als.regParam, [.01, .05]) \\\n",
    "           .build()\n",
    "\n",
    "# Define evaluator as RMSE and print length of evaluator\n",
    "evaluator = RegressionEvaluator(metricName=\"rmse\", labelCol=\"rating\", predictionCol=\"prediction\")\n",
    "\n",
    "# Use cross validation\n",
    "cv = CrossValidator(estimator=als, estimatorParamMaps=param_grid, evaluator=evaluator, numFolds=5)\n",
    "\n",
    "# Checkpoint the training data to truncate its lineage.\n",
    "# This is a lazy operation, it will be triggered by the .fit() call.\n",
    "training_data_chkp = training_data.checkpoint()\n",
    "\n",
    "# Fit the cross validator on the CHECKPOINTED DataFrame.\n",
    "model = cv.fit(training_data_chkp)\n",
    "\n",
    "# --- MODIFICATION END ---\n",
    "\n",
    "best_model = model.bestModel\n",
    "\n",
    "\n",
    "print (f\"{len(param_grid)} models tested\") \"\"\""
   ]
  },
  {
   "cell_type": "code",
   "execution_count": 10,
   "id": "5d4f3d7bc16fee18",
   "metadata": {
    "ExecuteTime": {
     "end_time": "2025-07-01T18:32:10.534611Z",
     "start_time": "2025-07-01T18:32:10.361888Z"
    }
   },
   "outputs": [
    {
     "data": {
      "text/plain": [
       "' # Print \"Rank\"\\nprint(\"  Rank:\", best_model.rank)\\n# Print \"RegParam\"\\nprint(\"  params:\", best_model.params) '"
      ]
     },
     "execution_count": 10,
     "metadata": {},
     "output_type": "execute_result"
    }
   ],
   "source": [
    "\"\"\" # Print \"Rank\"\n",
    "print(\"  Rank:\", best_model.rank)\n",
    "# Print \"RegParam\"\n",
    "print(\"  params:\", best_model.params) \"\"\""
   ]
  },
  {
   "cell_type": "code",
   "execution_count": 11,
   "id": "7b64a7eb0a8628b4",
   "metadata": {
    "ExecuteTime": {
     "end_time": "2025-07-01T18:32:58.417743Z",
     "start_time": "2025-07-01T18:32:47.859582Z"
    }
   },
   "outputs": [
    {
     "data": {
      "text/plain": [
       "' test_data_cached = test_data.cache()\\ntest_predictions = best_model.transform(test_data_cached)\\n\\n# Calculate the RMSE of test_predictions\\nRMSE = evaluator.evaluate(test_predictions)\\nprint(RMSE) '"
      ]
     },
     "execution_count": 11,
     "metadata": {},
     "output_type": "execute_result"
    }
   ],
   "source": [
    "\"\"\" test_data_cached = test_data.cache()\n",
    "test_predictions = best_model.transform(test_data_cached)\n",
    "\n",
    "# Calculate the RMSE of test_predictions\n",
    "RMSE = evaluator.evaluate(test_predictions)\n",
    "print(RMSE) \"\"\""
   ]
  },
  {
   "cell_type": "code",
   "execution_count": 12,
   "id": "d8fd11b7c4beb217",
   "metadata": {
    "ExecuteTime": {
     "end_time": "2025-07-01T19:16:31.444010Z",
     "start_time": "2025-07-01T19:16:24.310610Z"
    }
   },
   "outputs": [
    {
     "name": "stdout",
     "output_type": "stream",
     "text": [
      "Starting k-core filtering...\n",
      "Current dataset size: 1149780 ratings\n",
      "Current dataset size: 388500 ratings\n",
      "Current dataset size: 344728 ratings\n",
      "Current dataset size: 341418 ratings\n",
      "Current dataset size: 341225 ratings\n",
      "\\nK-core filtering complete. Final dataset size: 341225 ratings\n"
     ]
    }
   ],
   "source": [
    "def create_k_core_subset(data, min_user_ratings=10, min_item_ratings=5):\n",
    "    \"\"\"\n",
    "    Creates a k-core subset of a ratings dataframe.\n",
    "\n",
    "    Args:\n",
    "        data (pd.DataFrame): The ratings dataframe with 'user_id' and 'isbn' columns.\n",
    "        min_user_ratings (int): The minimum number of ratings a user must have.\n",
    "        min_item_ratings (int): The minimum number of ratings an item must have.\n",
    "\n",
    "    Returns:\n",
    "        pd.DataFrame: A new dataframe representing the k-core.\n",
    "    \"\"\"\n",
    "    print(\"Starting k-core filtering...\")\n",
    "    k_core_data = data.alias(\"new_df\")\n",
    "\n",
    "    while True:\n",
    "        # Store the original size to check for changes\n",
    "        original_rows = k_core_data.count()\n",
    "        print(f\"Current dataset size: {original_rows} ratings\")\n",
    "\n",
    "        # Filter by minimum item ratings\n",
    "        item_counts= k_core_data.groupBy('ISBN').count()\n",
    "        items_to_keep= item_counts.filter(F.col(\"count\") >= min_item_ratings)\n",
    "        k_core_data =k_core_data.join(items_to_keep.select('ISBN'), 'ISBN', 'inner')\n",
    "\n",
    "        user_counts = k_core_data.groupBy('User-ID').count()\n",
    "        users_to_keep = user_counts.filter(F.col(\"count\") >= min_user_ratings)\n",
    "        # Keep only the User-IDs that are in our users_to_keep dataframe\n",
    "        k_core_data = k_core_data.join(users_to_keep.select('User-ID'), 'User-ID', 'inner')\n",
    "\n",
    "        # Checkpointing breaks the long lineage chain in iterative algorithms\n",
    "        # to prevent StackOverflow errors\n",
    "        k_core_data = k_core_data.checkpoint()\n",
    "\n",
    "        current_rows = k_core_data.count()\n",
    "        # Check if the size has stabilized\n",
    "        if current_rows == original_rows:\n",
    "            print(f\"\\\\nK-core filtering complete. Final dataset size: {current_rows} ratings\")\n",
    "            break\n",
    "\n",
    "    return k_core_data\n",
    "\n",
    "# takes a while\n",
    "# \n",
    "dense_subset = create_k_core_subset(ratings_df_int_ids, min_user_ratings=15, min_item_ratings=10)"
   ]
  },
  {
   "cell_type": "code",
   "execution_count": 13,
   "id": "9119d03d",
   "metadata": {},
   "outputs": [],
   "source": [
    "def create_head_tail_slice(ratings_df, n_head_users, n_tail_users, n_head_books, n_tail_books, seed=123):\n",
    "    \"\"\"\n",
    "    Performs head/tail sampling on a Spark DataFrame to create a representative subset.\n",
    "\n",
    "    Args:\n",
    "        ratings_df (DataFrame): The input ratings Spark DataFrame. Must contain 'User-ID' and 'ISBN'.\n",
    "        n_head_users (int): Number of most active users to select.\n",
    "        n_tail_users (int): Number of random less-active users to select.\n",
    "        n_head_books (int): Number of most popular books to select from the user slice.\n",
    "        n_tail_books (int): Number of random less-popular books to select.\n",
    "        seed (int): Random seed for reproducibility.\n",
    "\n",
    "    Returns:\n",
    "        DataFrame: The final sampled slice.\n",
    "    \"\"\"\n",
    "    \n",
    "\n",
    "    # Get user counts \n",
    "    user_counts = ratings_df.groupBy(\"User-ID\").count().withColumnRenamed(\"count\", \"user_rating_count\")\n",
    "\n",
    "    # Get the head users (most active)\n",
    "    head_users_df = user_counts.orderBy(F.desc(\"user_rating_count\")).limit(n_head_users)\n",
    "\n",
    "    # Get the tail candidates by finding users not in the head list\n",
    "    tail_candidates_df = user_counts.join(head_users_df, \"User-ID\", \"left_anti\")\n",
    "\n",
    "    # Get the tail users by sampling randomly from the candidates\n",
    "    # We do this by assigning a random number and taking the top N\n",
    "    tail_users_df = tail_candidates_df.withColumn(\"random\", F.rand(seed)).orderBy(\"random\").limit(n_tail_users)\n",
    "\n",
    "    # Combine head and tail users\n",
    "    selected_users_df = head_users_df.select(\"User-ID\").union(tail_users_df.select(\"User-ID\"))\n",
    "\n",
    "    # Restrict ratings to only the selected users (the user slice)\n",
    "    user_slice_df = ratings_df.join(selected_users_df, \"User-ID\", \"inner\")\n",
    "    \n",
    "    # It's a good practice to cache intermediate results that will be reused\n",
    "    user_slice_df.cache()\n",
    "    \n",
    "    # Get book counts from the user_slice\n",
    "    book_counts_sub = user_slice_df.groupBy(\"ISBN\").count().withColumnRenamed(\"count\", \"book_rating_count\")\n",
    "\n",
    "    # Get head books\n",
    "    head_books_sub_df = book_counts_sub.orderBy(F.desc(\"book_rating_count\")).limit(n_head_books)\n",
    "\n",
    "    # Get tail book candidates\n",
    "    tail_candidates_sub_df = book_counts_sub.join(head_books_sub_df, \"ISBN\", \"left_anti\")\n",
    "\n",
    "    # Get tail books\n",
    "    tail_books_sub_df = tail_candidates_sub_df.withColumn(\"random\", F.rand(seed + 1)).orderBy(\"random\").limit(n_tail_books)\n",
    "\n",
    "    # Combine head and tail books\n",
    "    selected_books_df = head_books_sub_df.select(\"ISBN\").union(tail_books_sub_df.select(\"ISBN\"))\n",
    "\n",
    "    # Build the final slice by joining the user_slice with selected books\n",
    "    final_slice_df = user_slice_df.join(selected_books_df, \"ISBN\", \"inner\")\n",
    "\n",
    "    # Clean up the cache\n",
    "    user_slice_df.unpersist()\n",
    "\n",
    "    return final_slice_df\n"
   ]
  },
  {
   "cell_type": "code",
   "execution_count": 14,
   "id": "8fb9f620",
   "metadata": {},
   "outputs": [
    {
     "data": {
      "text/plain": [
       "'Final slice shape:'"
      ]
     },
     "metadata": {},
     "output_type": "display_data"
    },
    {
     "data": {
      "text/plain": [
       "(34277, 5)"
      ]
     },
     "metadata": {},
     "output_type": "display_data"
    },
    {
     "data": {
      "text/plain": [
       "'Selected users:'"
      ]
     },
     "metadata": {},
     "output_type": "display_data"
    },
    {
     "data": {
      "text/plain": [
       "1087"
      ]
     },
     "metadata": {},
     "output_type": "display_data"
    },
    {
     "data": {
      "text/plain": [
       "'Selected books:'"
      ]
     },
     "metadata": {},
     "output_type": "display_data"
    },
    {
     "data": {
      "text/plain": [
       "1100"
      ]
     },
     "metadata": {},
     "output_type": "display_data"
    }
   ],
   "source": [
    "#we will pick 720 users and 800 books to create \"long-tail\" dataset\n",
    "n_head_users, n_tail_users = 300, 800\n",
    "n_head_books, n_tail_books = 300, 800\n",
    "\n",
    "#create the final slice\n",
    "final_slice = create_head_tail_slice(\n",
    "    dense_subset,\n",
    "    n_head_users, n_tail_users,\n",
    "    n_head_books, n_tail_books\n",
    ")\n",
    "\n",
    "final_slice.cache()\n",
    "\n",
    "display(\"Final slice shape:\", (final_slice.count(), len(final_slice.columns)))\n",
    "display(\"Selected users:\", final_slice.select(\"User-ID\").distinct().count())\n",
    "display(\"Selected books:\", final_slice.select('ISBN').distinct().count())"
   ]
  },
  {
   "cell_type": "code",
   "execution_count": 15,
   "id": "73906710",
   "metadata": {},
   "outputs": [
    {
     "name": "stdout",
     "output_type": "stream",
     "text": [
      "\\nCalculating long-tail distribution...\n",
      "370/1100 books cover 80% → 33.6%\n"
     ]
    },
    {
     "data": {
      "image/png": "[encoded data removed]",
      "text/plain": [
       "<Figure size 640x480 with 1 Axes>"
      ]
     },
     "metadata": {},
     "output_type": "display_data"
    }
   ],
   "source": [
    "print(\"\\\\nCalculating long-tail distribution...\")\n",
    "bc_df = final_slice.groupBy(\"ISBN\").count().orderBy(F.desc(\"count\"))\n",
    "\n",
    "# Collect the result to the driver as a pandas DataFrame\n",
    "bc_pandas_df = bc_df.toPandas()\n",
    "\n",
    "# Now, use the pandas logic for plotting\n",
    "cum = bc_pandas_df['count'].cumsum() / bc_pandas_df['count'].sum()\n",
    "n80 = (cum <= 0.8).sum()\n",
    "\n",
    "#The denominator is the total number of unique books in the slice\n",
    "total_books = len(bc_pandas_df)\n",
    "print(f\"{n80}/{total_books} books cover 80% → {n80/total_books:.1%}\")\n",
    "\n",
    "# Plotting using matplotlib\n",
    "plt.hist(bc_pandas_df['count'].values, bins=20)\n",
    "plt.title(f\"{total_books}-book slice: ratings per book\")\n",
    "plt.xlabel(\"Ratings per book\")\n",
    "plt.ylabel(\"Number of books\")\n",
    "plt.show()"
   ]
  },
  {
   "cell_type": "code",
   "execution_count": 16,
   "id": "55a02677",
   "metadata": {},
   "outputs": [
    {
     "name": "stdout",
     "output_type": "stream",
     "text": [
      "✅ Found metadata_all.csv on GitHub. Loading via pandas → Spark.\n",
      "Metadata schema:\n",
      "root\n",
      " |-- ISBN: string (nullable = true)\n",
      " |-- title: string (nullable = true)\n",
      " |-- description: string (nullable = true)\n",
      " |-- authors: string (nullable = true)\n",
      " |-- publish_date: string (nullable = true)\n",
      " |-- publisher: string (nullable = true)\n",
      " |-- number_of_pages: integer (nullable = true)\n",
      " |-- subjects: string (nullable = true)\n",
      "\n",
      "Sample metadata (subset of columns):\n",
      "      ISBN               title                      authors publish_date  number_of_pages\n",
      "0842329129         Left Behind Tim LaHaye, Jerry B. Jenkins         1995              484\n",
      "0140258418           The Beach                 Alex Garland         1997              438\n",
      "0671649728 Moving Beyond Words               Gloria Steinem         1994              352\n",
      "0380385880              Shanna        Kathleen E. Woodiwiss   1978-08-01              678\n",
      "034540288X      The Lost World             Michael Crichton         1995              449\n",
      "\n",
      " Description snippet (first 150 chars):\n",
      "      ISBN                                                                                                                                           desc_snippet\n",
      "0842329129                                                                                                                            Novel about the Apocalypse.\n",
      "0140258418 Richard, backpacking around the globe in the great tradition of cheap travel, finds himself bedding down in Khao San Road, Bangkok. But his chance to \n",
      "0671649728 \"Gloria Steinem is one of the country's most influential and innovative writers and activists. In Revolution from Within, Marilyn: Norma Jean, and Out\n",
      "0380385880 A pact is sealed in secret behind the foreboding walls of Newgate Prison. In return for a night of unparalleled pleasure, a dashing condemned criminal\n",
      "034540288X \"HARROWING THRILLS . . . FAST-PACED AND ENGAGING.\" --People It is now six years since the secret disaster at Jurassic Park, six years since the extrao\n"
     ]
    }
   ],
   "source": [
    "GITHUB_RAW_BASE = \"https://raw.githubusercontent.com/farhodibr/PROJECT5/main\"\n",
    "SINGLE_URL      = f\"{GITHUB_RAW_BASE}/book_metadata/metadata_all.csv\"\n",
    "PARTS_URL_FMT   = f\"{GITHUB_RAW_BASE}/book_metadata_parts/metadata_part_{{}}.csv\"\n",
    "\n",
    "OUTPUT_DIR      = \"book_metadata_parts\"\n",
    "os.makedirs(OUTPUT_DIR, exist_ok=True)\n",
    "\n",
    "# test if a raw GitHub URL exists \n",
    "def remote_exists(url: str) -> bool:\n",
    "    try:\n",
    "        return requests.head(url, timeout=5).status_code == 200\n",
    "    except requests.RequestException:\n",
    "        return False\n",
    "\n",
    "final_schema = StructType([\n",
    "    StructField(\"ISBN\",             StringType(), True),\n",
    "    StructField(\"title\",            StringType(), True),\n",
    "    StructField(\"description\",      StringType(), True),\n",
    "    StructField(\"authors\",          StringType(), True),\n",
    "    StructField(\"publish_date\",     StringType(), True),\n",
    "    StructField(\"publisher\",        StringType(), True),\n",
    "    StructField(\"number_of_pages\",  IntegerType(), True),\n",
    "    StructField(\"subjects\",         StringType(), True)\n",
    "])\n",
    "\n",
    "# Try loading the single combined CSV from GitHub \n",
    "if remote_exists(SINGLE_URL):\n",
    "    print(\"✅ Found metadata_all.csv on GitHub. Loading via pandas → Spark.\")\n",
    "    pdf = pd.read_csv(SINGLE_URL)\n",
    "    # ensure integer pages\n",
    "    pdf['number_of_pages'] = pdf['number_of_pages'].fillna(0).astype(int)\n",
    "    metadata_df = (\n",
    "        spark.createDataFrame(pdf, schema=final_schema)\n",
    "             .cache()\n",
    "    )\n",
    "\n",
    "# Else try loading numbered parts from GitHub \n",
    "elif remote_exists(PARTS_URL_FMT.format(1)):\n",
    "    print(\"found metadata parts on GitHub. Loading all parts via pandas → Spark.\")\n",
    "    parts_urls = []\n",
    "    i = 1\n",
    "    while remote_exists(PARTS_URL_FMT.format(i)):\n",
    "        parts_urls.append(PARTS_URL_FMT.format(i))\n",
    "        i += 1\n",
    "\n",
    "    pdfs = []\n",
    "    for url in parts_urls:\n",
    "        part = pd.read_csv(url)\n",
    "        part['number_of_pages'] = part['number_of_pages'].fillna(0).astype(int)\n",
    "        pdfs.append(part)\n",
    "\n",
    "    all_pdf = pd.concat(pdfs, ignore_index=True).drop_duplicates(\"ISBN\")\n",
    "    metadata_df = (\n",
    "        spark.createDataFrame(all_pdf, schema=final_schema)\n",
    "             .cache()\n",
    "    )\n",
    "\n",
    "#Otherwise fall back to fetching via Google Books API\n",
    "else:\n",
    "    print(\"No GitHub metadata found. Fetching via Google Books API…\")\n",
    "    GOOGLE_API_KEY = \"\"\n",
    "    if not GOOGLE_API_KEY:\n",
    "        raise RuntimeError(\"Please set the GOOGLE_BOOKS_API_KEY env var.\")\n",
    "\n",
    "    def build_url(isbn: str) -> str:\n",
    "        return (\n",
    "            f\"https://www.googleapis.com/books/v1/volumes\"\n",
    "            f\"?q=isbn:{isbn}&key={GOOGLE_API_KEY}\"\n",
    "        )\n",
    "\n",
    "    def fetch_single_book_metadata(isbn, max_retries=3, initial_delay=1):\n",
    "        url   = build_url(isbn)\n",
    "        delay = initial_delay\n",
    "        for attempt in range(1, max_retries+1):\n",
    "            resp = requests.get(url, timeout=15)\n",
    "            if resp.status_code == 429:\n",
    "                ra   = resp.headers.get(\"Retry-After\")\n",
    "                wait = float(ra) if ra else delay\n",
    "                print(f\"[429] {isbn}, retry {attempt}/{max_retries} in {wait}s\")\n",
    "                time.sleep(wait)\n",
    "                delay *= 2\n",
    "                continue\n",
    "            try:\n",
    "                resp.raise_for_status()\n",
    "                data = resp.json()\n",
    "            except Exception as e:\n",
    "                print(f\"[ERROR] {isbn} attempt {attempt}: {e}\")\n",
    "                time.sleep(delay)\n",
    "                delay *= 2\n",
    "                continue\n",
    "            items = data.get(\"items\")\n",
    "            if not items:\n",
    "                return {\"ISBN\": isbn}\n",
    "            info  = items[0].get(\"volumeInfo\", {})\n",
    "            pages = info.get(\"pageCount\")\n",
    "            try:\n",
    "                pages = int(pages) if pages is not None else 0\n",
    "            except:\n",
    "                pages = 0\n",
    "            time.sleep(0.3)\n",
    "            return {\n",
    "                \"ISBN\":            isbn,\n",
    "                \"title\":           info.get(\"title\", \"\"),\n",
    "                \"description\":     info.get(\"description\", \"\"),\n",
    "                \"authors\":         \", \".join(info.get(\"authors\", [])),\n",
    "                \"publish_date\":    info.get(\"publishedDate\", \"\"),\n",
    "                \"publisher\":       info.get(\"publisher\", \"\"),\n",
    "                \"number_of_pages\": pages,\n",
    "                \"subjects\":        \", \".join(info.get(\"categories\", []))\n",
    "            }\n",
    "        print(f\"[FAILED] ISBN {isbn} after {max_retries} attempts.\")\n",
    "        return {\"ISBN\": isbn, \"number_of_pages\": 0}\n",
    "\n",
    "    def chunker(seq, size):\n",
    "        for i in range(0, len(seq), size):\n",
    "            yield seq[i:i+size]\n",
    "\n",
    "    isbn_list = [r.ISBN for r in final_slice.select(\"ISBN\").distinct().collect()]\n",
    "    batches   = list(chunker(isbn_list, 100))\n",
    "\n",
    "    all_results = []\n",
    "    for idx, batch in enumerate(batches, 1):\n",
    "        print(f\"Batch {idx}/{len(batches)}: fetching {len(batch)} ISBNs…\")\n",
    "        with ThreadPoolExecutor(max_workers=2) as exe:\n",
    "            futures = [exe.submit(fetch_single_book_metadata, isbn) for isbn in batch]\n",
    "            for fut in as_completed(futures):\n",
    "                all_results.append(fut.result())\n",
    "        time.sleep(10)\n",
    "\n",
    "    # save and load via Spark\n",
    "    local_csv = f\"{OUTPUT_DIR}/metadata_all_local.csv\"\n",
    "    pd.DataFrame(all_results).to_csv(local_csv, index=False)\n",
    "    metadata_df = (\n",
    "        spark.read\n",
    "             .schema(final_schema)\n",
    "             .option(\"header\", True)\n",
    "             .csv(local_csv)\n",
    "             .cache()\n",
    "    )\n",
    "\n",
    "\n",
    "print(\"Metadata schema:\")\n",
    "metadata_df.printSchema()\n",
    "\n",
    "preview_cols = [\"ISBN\", \"title\", \"authors\", \"publish_date\", \"number_of_pages\"]\n",
    "\n",
    "print(\"Sample metadata (subset of columns):\")\n",
    "print(pdf[preview_cols]\n",
    "      .head(5)\n",
    "      .to_string(index=False))\n",
    "\n",
    "print(\"\\n Description snippet (first 150 chars):\")\n",
    "snippet = pdf[[\"ISBN\", \"description\"]].copy()\n",
    "snippet[\"desc_snippet\"] = snippet[\"description\"].str.slice(0, 150)\n",
    "print(snippet[[\"ISBN\", \"desc_snippet\"]]\n",
    "      .head(5)\n",
    "      .to_string(index=False))\n"
   ]
  },
  {
   "cell_type": "code",
   "execution_count": 17,
   "id": "272acf95",
   "metadata": {},
   "outputs": [
    {
     "name": "stdout",
     "output_type": "stream",
     "text": [
      "loaded 1100 records from metadata_all.csv\n",
      "         ISBN                title                       authors  \\\n",
      "0  0842329129          Left Behind  Tim LaHaye, Jerry B. Jenkins   \n",
      "1  0140258418            The Beach                  Alex Garland   \n",
      "2  0671649728  Moving Beyond Words                Gloria Steinem   \n",
      "3  0380385880               Shanna         Kathleen E. Woodiwiss   \n",
      "4  034540288X       The Lost World              Michael Crichton   \n",
      "\n",
      "                                                                                                                                                                                                                                                                                                                                                                                                                                                                                                                                                                                                                                                                                                                                                                                                                                                                                                                                                                                                                                                                                                                                                                                                                                                                                                                                                                                                                                                                                                                                                                                                                                                                                                                                                                                                                                                                                                                                                                                                                                                                                                                                                                                                                                                                                                                                                                                                                                                                                                                                                                                                                                                                                                                                  text  \n",
      "0                                                                                                                                                                                                                                                                                                                                                                                                                                                                                                                                                                                                                                                                                                                                                                                                                                                                                                                                                                                                                                                                                                                                                                                                                                                                                                                                                                                                                                                                                                                                                                                                                                                                                                                                                                                                                                                                                                                                                                                                                                                                                                                                                                                                                                                                                                                                                                                                                                                                                                                                                                                                                                                                                              Left Behind Novel about the Apocalypse.  \n",
      "1                                                                                                                                                                                                                                                                                                                                                                                                                                                                                                                                                                                                                                                                                                                                                                                                                                                                                                                                                                                                                                                                                                                                                                                                                                                                                                                                                                                                                                                                                                                                                                                                                                                                                                                                                                                                                                                                      The Beach Richard, backpacking around the globe in the great tradition of cheap travel, finds himself bedding down in Khao San Road, Bangkok. But his chance to rest briefly is suddenly and irrevocably destroyed when a perfect stranger called Mister Duck is killed in the room next door. Mister Duck had a secret - now it's Richard's. Armed with a map - and a name of great mystery and legend that possesses a simple majesty: Beach - our protagonist goes in search of a traveller's dream, a place where there are lots of drugs and a tolerant society that works together to maintain a life of inner peace and tranquillity. Only a select few will make it to the blissful seclusion of the Beach (Mister Duck, for one, has died) but in the great tradition of travelling bravado, or sheer stupidity, Richard decides to give it a go . . .  \n",
      "2  Moving Beyond Words \"Gloria Steinem is one of the country's most influential and innovative writers and activists. In Revolution from Within, Marilyn: Norma Jean, and Outrageous Acts and Everyday Rebellions, she created a dialogue with her readers that shapes the way we think about human possibilities. In this newest six-part adventure of essays that \"begin in a personal place, and arrive at a larger point,\" she offers more revolutionary ideas, compassionate insights, and one truly over-the-top fantasy. Three of its six parts appear here for the first time. Three of them have a seed, seedling, or partly grown plant in a previously published article. As Steinem writes in the Preface, \"Each of these six parts is rather like a condensed book....Since there seems to be no genre for this, I've found myself explaining it this way: If you added water to any of these parts, it would become a book.\"\" \"What If Freud Were Phyllis is the ultimate send-up - with footnotes. By gender-reversing Sigmund's world and work, and drawing on new scholarship that shocks, Steinem creates a hilarious and chilling portrait of the most haunting father-figure of them all - and raises questions about what might have been haunting him, and why he is still haunting us.\" \"The Strongest Woman in the World is the story of one woman whose courage in testing her own limits broke the boundaries of gender and gave Steinem insights into the politics of muscle - and into herself.\" \"Sex, Lies and Advertising updates and greatly expands Steinem's famous expose of advertising's stranglehold on women's magazines and its control over much of what we see and read - with a new and urgent call to action.\" \"The Masculinization of Wealth shows us the ways class works in reverse for women in families of inherited wealth, because \"the closer we are to power, the more passive we have to be kept.\" It reshapes our understanding of class, and exposes the other end of the feminization of poverty.\" \"Revaluing Economics demystifies budgets, from our own checkbooks to national and international accounting systems, as statements of values that render invisible most of the world's productive work, especially that done by women - and offers practical ways out.\" \"Doing Sixty is a spirited, provocative, intimate essay written at the approach of Steinem's sixtieth birthday - for her \"beloved age peers\" and \"to help younger readers worry less about early successes or failures\" - as she realizes why women, herself included, become more radical with age.\"--BOOK JACKET.Title Summary field provided by Blackwell North America, Inc. All Rights Reserved  \n",
      "3                                                                                                                                                                                                                                                                                                                                                                                                                                                                                                                                                                                                                                                                                                                                                                                                                                                                                                                                                                                                                                                                                                                                                                                                                                                                                                                                                                                                                                                                                                                                                                                                                                                                                                                                                                                                                                                                                                                          Shanna A pact is sealed in secret behind the foreboding walls of Newgate Prison. In return for a night of unparalleled pleasure, a dashing condemned criminal consents to wed a beautiful heiress, thereby rescuing her with his name from an impending and abhorred arranged union. But in the fading echoes of hollow wedding vows, a solemn promise is broken, as a sensuous free spirit takes flight to a lush Caribbean paradise, abandoning the stranger she married to face the gallows unfulfilled. But Ruark Beauchamp's destiny is now eternally intertwined with that of the tempestuous, intoxicating Shanna. He will be free . . . and he will find her. For no iron ever forged can imprison his resolute passion. And no hangman's noose will deny Ruark the ecstasy that is rightfully his.  \n",
      "4                                                                                                                                                                                                                                                                                                                                                                                                                                                                                                                                                                                                                                                                                                                                                                                                                                                                                                                                                                                                                                                                                                                                                                                                                                                                                                                                                                                                                                                                                                                                                                                                                                                                                                                                                                                                                                                                                                                                                                                                                                                                                                                                                    The Lost World \"HARROWING THRILLS . . . FAST-PACED AND ENGAGING.\" --People It is now six years since the secret disaster at Jurassic Park, six years since the extraordinary dream of science and imagination came to a crashing end--the dinosaurs destroyed, the park dismantled, the island indefinitely closed to the public. There are rumors that something has survived. . . . \"ACTION-PACKED.\" --New York Daily News \"FAST AND GRIPPING.\" --The Washington Post Book World \"A VERY SCARY READ.\" --Entertainment Weekly \"AN EDGE-OF-THE-SEAT TALE.\" --St. Petersburg Times  \n",
      "generating embeddings...\n"
     ]
    },
    {
     "data": {
      "application/vnd.jupyter.widget-view+json": {
       "model_id": "3ea04c74910f4c3ca0d63fa55719700c",
       "version_major": 2,
       "version_minor": 0
      },
      "text/plain": [
       "Batches:   0%|          | 0/35 [00:00<?, ?it/s]"
      ]
     },
     "metadata": {},
     "output_type": "display_data"
    },
    {
     "name": "stdout",
     "output_type": "stream",
     "text": [
      "Saved embeddings to metadata_with_embs.parquet\n",
      "reading embeddings from Parquet...\n",
      "DataFrame schema:\n",
      "root\n",
      " |-- ISBN: string (nullable = true)\n",
      " |-- title: string (nullable = true)\n",
      " |-- description: string (nullable = true)\n",
      " |-- authors: string (nullable = true)\n",
      " |-- publish_date: string (nullable = true)\n",
      " |-- publisher: string (nullable = true)\n",
      " |-- number_of_pages: double (nullable = true)\n",
      " |-- subjects: string (nullable = true)\n",
      " |-- text: string (nullable = true)\n",
      " |-- embedding: array (nullable = true)\n",
      " |    |-- element: double (containsNull = true)\n",
      "\n",
      "Sample data:\n",
      "+----------+-------------------+----------------------------+-----------------------------------------------------------------------------------------------------------------------------------------------------------------------------------------------------------------------------------------------------------------------------------------------------------------------------------------------------------------------------------------------------------------------------------------------------------------------------------------------------------------------------------------------------------------------------------------------------------------------------------------------------------------------------------------------------------------------------------------------------------------------------------------------------------------------------------------------------------------------------------------------------------------------------------------------------------------------------------------------------------------------------------------------------------------------------------------------------------------------------------------------------------------------------------------------------------------------------------------------------------------------------------------------------------------------------------------------------------------------------------------------------------------------------------------------------------------------------------------------------------------------------------------------------------------------------------------------------------------------------------------------------------------------------------------------------------------------------------------------------------------------------------------------------------------------------------------------------------------------------------------------------------------------------------------------------------------------------------------------------------------------------------------------------------------------------------------------------------------------------------------------------------------------------------------------------------------------------------------------------------------------------------------------------------------------------------------------------------------------------------------------------------------------------------------------------------------------------------------------------------------------------------------------------------------------------------------------------------------------------------------------------------------------------------------------------------------------------------+\n",
      "|ISBN      |title              |authors                     |text                                                                                                                                                                                                                                                                                                                                                                                                                                                                                                                                                                                                                                                                                                                                                                                                                                                                                                                                                                                                                                                                                                                                                                                                                                                                                                                                                                                                                                                                                                                                                                                                                                                                                                                                                                                                                                                                                                                                                                                                                                                                                                                                                                                                                                                                                                                                                                                                                                                                                                                                                                                                                                                                                                                               |\n",
      "+----------+-------------------+----------------------------+-----------------------------------------------------------------------------------------------------------------------------------------------------------------------------------------------------------------------------------------------------------------------------------------------------------------------------------------------------------------------------------------------------------------------------------------------------------------------------------------------------------------------------------------------------------------------------------------------------------------------------------------------------------------------------------------------------------------------------------------------------------------------------------------------------------------------------------------------------------------------------------------------------------------------------------------------------------------------------------------------------------------------------------------------------------------------------------------------------------------------------------------------------------------------------------------------------------------------------------------------------------------------------------------------------------------------------------------------------------------------------------------------------------------------------------------------------------------------------------------------------------------------------------------------------------------------------------------------------------------------------------------------------------------------------------------------------------------------------------------------------------------------------------------------------------------------------------------------------------------------------------------------------------------------------------------------------------------------------------------------------------------------------------------------------------------------------------------------------------------------------------------------------------------------------------------------------------------------------------------------------------------------------------------------------------------------------------------------------------------------------------------------------------------------------------------------------------------------------------------------------------------------------------------------------------------------------------------------------------------------------------------------------------------------------------------------------------------------------------+\n",
      "|0842329129|Left Behind        |Tim LaHaye, Jerry B. Jenkins|Left Behind Novel about the Apocalypse.                                                                                                                                                                                                                                                                                                                                                                                                                                                                                                                                                                                                                                                                                                                                                                                                                                                                                                                                                                                                                                                                                                                                                                                                                                                                                                                                                                                                                                                                                                                                                                                                                                                                                                                                                                                                                                                                                                                                                                                                                                                                                                                                                                                                                                                                                                                                                                                                                                                                                                                                                                                                                                                                                            |\n",
      "|0140258418|The Beach          |Alex Garland                |The Beach Richard, backpacking around the globe in the great tradition of cheap travel, finds himself bedding down in Khao San Road, Bangkok. But his chance to rest briefly is suddenly and irrevocably destroyed when a perfect stranger called Mister Duck is killed in the room next door. Mister Duck had a secret - now it's Richard's. Armed with a map - and a name of great mystery and legend that possesses a simple majesty: Beach - our protagonist goes in search of a traveller's dream, a place where there are lots of drugs and a tolerant society that works together to maintain a life of inner peace and tranquillity. Only a select few will make it to the blissful seclusion of the Beach (Mister Duck, for one, has died) but in the great tradition of travelling bravado, or sheer stupidity, Richard decides to give it a go . . .                                                                                                                                                                                                                                                                                                                                                                                                                                                                                                                                                                                                                                                                                                                                                                                                                                                                                                                                                                                                                                                                                                                                                                                                                                                                                                                                                                                                                                                                                                                                                                                                                                                                                                                                                                                                                                                                    |\n",
      "|0671649728|Moving Beyond Words|Gloria Steinem              |Moving Beyond Words \"Gloria Steinem is one of the country's most influential and innovative writers and activists. In Revolution from Within, Marilyn: Norma Jean, and Outrageous Acts and Everyday Rebellions, she created a dialogue with her readers that shapes the way we think about human possibilities. In this newest six-part adventure of essays that \"begin in a personal place, and arrive at a larger point,\" she offers more revolutionary ideas, compassionate insights, and one truly over-the-top fantasy. Three of its six parts appear here for the first time. Three of them have a seed, seedling, or partly grown plant in a previously published article. As Steinem writes in the Preface, \"Each of these six parts is rather like a condensed book....Since there seems to be no genre for this, I've found myself explaining it this way: If you added water to any of these parts, it would become a book.\"\" \"What If Freud Were Phyllis is the ultimate send-up - with footnotes. By gender-reversing Sigmund's world and work, and drawing on new scholarship that shocks, Steinem creates a hilarious and chilling portrait of the most haunting father-figure of them all - and raises questions about what might have been haunting him, and why he is still haunting us.\" \"The Strongest Woman in the World is the story of one woman whose courage in testing her own limits broke the boundaries of gender and gave Steinem insights into the politics of muscle - and into herself.\" \"Sex, Lies and Advertising updates and greatly expands Steinem's famous expose of advertising's stranglehold on women's magazines and its control over much of what we see and read - with a new and urgent call to action.\" \"The Masculinization of Wealth shows us the ways class works in reverse for women in families of inherited wealth, because \"the closer we are to power, the more passive we have to be kept.\" It reshapes our understanding of class, and exposes the other end of the feminization of poverty.\" \"Revaluing Economics demystifies budgets, from our own checkbooks to national and international accounting systems, as statements of values that render invisible most of the world's productive work, especially that done by women - and offers practical ways out.\" \"Doing Sixty is a spirited, provocative, intimate essay written at the approach of Steinem's sixtieth birthday - for her \"beloved age peers\" and \"to help younger readers worry less about early successes or failures\" - as she realizes why women, herself included, become more radical with age.\"--BOOK JACKET.Title Summary field provided by Blackwell North America, Inc. All Rights Reserved|\n",
      "|0380385880|Shanna             |Kathleen E. Woodiwiss       |Shanna A pact is sealed in secret behind the foreboding walls of Newgate Prison. In return for a night of unparalleled pleasure, a dashing condemned criminal consents to wed a beautiful heiress, thereby rescuing her with his name from an impending and abhorred arranged union. But in the fading echoes of hollow wedding vows, a solemn promise is broken, as a sensuous free spirit takes flight to a lush Caribbean paradise, abandoning the stranger she married to face the gallows unfulfilled. But Ruark Beauchamp's destiny is now eternally intertwined with that of the tempestuous, intoxicating Shanna. He will be free . . . and he will find her. For no iron ever forged can imprison his resolute passion. And no hangman's noose will deny Ruark the ecstasy that is rightfully his.                                                                                                                                                                                                                                                                                                                                                                                                                                                                                                                                                                                                                                                                                                                                                                                                                                                                                                                                                                                                                                                                                                                                                                                                                                                                                                                                                                                                                                                                                                                                                                                                                                                                                                                                                                                                                                                                                                                        |\n",
      "|034540288X|The Lost World     |Michael Crichton            |The Lost World \"HARROWING THRILLS . . . FAST-PACED AND ENGAGING.\" --People It is now six years since the secret disaster at Jurassic Park, six years since the extraordinary dream of science and imagination came to a crashing end--the dinosaurs destroyed, the park dismantled, the island indefinitely closed to the public. There are rumors that something has survived. . . . \"ACTION-PACKED.\" --New York Daily News \"FAST AND GRIPPING.\" --The Washington Post Book World \"A VERY SCARY READ.\" --Entertainment Weekly \"AN EDGE-OF-THE-SEAT TALE.\" --St. Petersburg Times                                                                                                                                                                                                                                                                                                                                                                                                                                                                                                                                                                                                                                                                                                                                                                                                                                                                                                                                                                                                                                                                                                                                                                                                                                                                                                                                                                                                                                                                                                                                                                                                                                                                                                                                                                                                                                                                                                                                                                                                                                                                                                                                                  |\n",
      "+----------+-------------------+----------------------------+-----------------------------------------------------------------------------------------------------------------------------------------------------------------------------------------------------------------------------------------------------------------------------------------------------------------------------------------------------------------------------------------------------------------------------------------------------------------------------------------------------------------------------------------------------------------------------------------------------------------------------------------------------------------------------------------------------------------------------------------------------------------------------------------------------------------------------------------------------------------------------------------------------------------------------------------------------------------------------------------------------------------------------------------------------------------------------------------------------------------------------------------------------------------------------------------------------------------------------------------------------------------------------------------------------------------------------------------------------------------------------------------------------------------------------------------------------------------------------------------------------------------------------------------------------------------------------------------------------------------------------------------------------------------------------------------------------------------------------------------------------------------------------------------------------------------------------------------------------------------------------------------------------------------------------------------------------------------------------------------------------------------------------------------------------------------------------------------------------------------------------------------------------------------------------------------------------------------------------------------------------------------------------------------------------------------------------------------------------------------------------------------------------------------------------------------------------------------------------------------------------------------------------------------------------------------------------------------------------------------------------------------------------------------------------------------------------------------------------------+\n",
      "only showing top 5 rows\n",
      "\n"
     ]
    }
   ],
   "source": [
    "import os\n",
    "import urllib.request\n",
    "import pandas as pd\n",
    "from sentence_transformers import SentenceTransformer\n",
    "\n",
    "# download raw CSV if not present\n",
    "csv_url = \"https://raw.githubusercontent.com/farhodibr/PROJECT5/main/book_metadata/metadata_all.csv\"\n",
    "raw_csv = \"metadata_all.csv\"\n",
    "if not os.path.exists(raw_csv):\n",
    "    print(f\"downloading metadata to {raw_csv}...\")\n",
    "    urllib.request.urlretrieve(csv_url, raw_csv)\n",
    "\n",
    "# load the CSV into a pandas DataFrame\n",
    "data = pd.read_csv(raw_csv)\n",
    "# filling missing titles and descriptions to ensure all text is string\n",
    "data[\"title\"] = data[\"title\"].fillna(\"No Title\")\n",
    "data[\"description\"] = data[\"description\"].fillna(\"\")\n",
    "data[\"text\"] = data[\"title\"] + \" \" + data[\"description\"]\n",
    "# print size of the DataFrame\n",
    "print(f\"loaded {len(data)} records from {raw_csv}\")\n",
    "# show a preview of the DataFrame in nice format with full 'text' column\n",
    "pd.set_option(\"display.max_colwidth\", None)  # show full text\n",
    "print(data[[\"ISBN\", \"title\", \"authors\", \"text\"]].head(5))\n",
    "\n",
    "# compute embeddings with SBERT\n",
    "print(\"generating embeddings...\")\n",
    "model = SentenceTransformer(\"all-MiniLM-L6-v2\")\n",
    "embeds = model.encode(data[\"text\"].tolist(), show_progress_bar=True)\n",
    "data[\"embedding\"] = embeds.tolist()\n",
    "\n",
    "# save to parquet for spark consumption\n",
    "parquet_path = \"metadata_with_embs.parquet\"\n",
    "data.to_parquet(parquet_path, index=False)\n",
    "print(f\"Saved embeddings to {parquet_path}\")\n",
    "\n",
    "# bulding a content-based recommender using LSH for approximate cosine similarity search\n",
    "from pyspark.sql import SparkSession\n",
    "from pyspark.sql.functions import col, expr\n",
    "from pyspark.ml.feature import BucketedRandomProjectionLSH, Normalizer\n",
    "from pyspark.ml.functions import array_to_vector\n",
    "\n",
    "# initializing Spark session\n",
    "spark = (\n",
    "    SparkSession.builder\n",
    "    .appName(\"SparkRecommenderLSH_Cosine\")\n",
    "    .config(\"spark.driver.memory\", \"8g\")\n",
    "    .getOrCreate()\n",
    ")\n",
    "\n",
    "# reading the parquet file with embeddings\n",
    "print(\"reading embeddings from Parquet...\")\n",
    "df = spark.read.parquet(parquet_path)\n",
    "\n",
    "# show the schema and a few rows\n",
    "print(\"DataFrame schema:\")  \n",
    "df.printSchema()\n",
    "print(\"Sample data:\")\n",
    "df.select(\"ISBN\", \"title\", \"authors\", \"text\").show(5, truncate=False)\n",
    "# connvert the 'embedding' column to a vector type\n",
    "\n",
    "df_emb = (\n",
    "    df\n",
    "    .withColumn(\"features\", array_to_vector(\"embedding\"))\n",
    "    .drop(\"embedding\")\n",
    ")\n",
    "\n",
    "normalizer = Normalizer(inputCol=\"features\", outputCol=\"unitVec\", p=2.0)\n",
    "df_norm = normalizer.transform(df_emb)\n",
    "\n"
   ]
  },
  {
   "cell_type": "code",
   "execution_count": 18,
   "id": "e1a6db47",
   "metadata": {},
   "outputs": [
    {
     "name": "stdout",
     "output_type": "stream",
     "text": [
      "\n",
      "Generating recommendations for example books:\n",
      "Top 5 recommendations for 'The Firm' (cosine similarity):\n",
      "+-------------------+-------------+-------------------+\n",
      "|title              |authors      |cosine_similarity  |\n",
      "+-------------------+-------------+-------------------+\n",
      "|Personal Injuries  |Scott Turow  |0.6128321928681237 |\n",
      "|The Devil's Code   |John Sandford|0.5289702813981185 |\n",
      "|\"B\" is for Burglar |Sue Grafton  |0.4902906128326556 |\n",
      "|The Street Lawyer  |John Grisham |0.47581760652245597|\n",
      "|\"H\" is for Homicide|Sue Grafton  |0.4302336111086128 |\n",
      "+-------------------+-------------+-------------------+\n",
      "\n",
      "Top 5 recommendations for 'Left Behind' (cosine similarity):\n",
      "+---------------------+----------------------------+------------------+\n",
      "|title                |authors                     |cosine_similarity |\n",
      "+---------------------+----------------------------+------------------+\n",
      "|Tribulation Force    |Tim LaHaye, Jerry B. Jenkins|0.5869429752933417|\n",
      "|The Last Day         |Glenn Kleier                |0.5328155967742217|\n",
      "|Angela's Ashes       |Frank McCourt               |0.4680055515362245|\n",
      "|A Book Without Covers|John Andrew Storey          |0.4521935709237279|\n",
      "+---------------------+----------------------------+------------------+\n",
      "\n",
      "Top 5 recommendations for 'The Pelican Brief' (cosine similarity):\n",
      "+-----------------+---------------+-------------------+\n",
      "|title            |authors        |cosine_similarity  |\n",
      "+-----------------+---------------+-------------------+\n",
      "|The Street Lawyer|John Grisham   |0.4131900696133284 |\n",
      "|One for the Money|Janet Evanovich|0.4063792127135557 |\n",
      "|The Partner      |John Grisham   |0.4051028584567642 |\n",
      "|Personal Injuries|Scott Turow    |0.4009490632460255 |\n",
      "|The Testament    |John Grisham   |0.39280561518887447|\n",
      "+-----------------+---------------+-------------------+\n",
      "\n"
     ]
    }
   ],
   "source": [
    "# fitting LSH on unit vectors for approximate cosine search (via Euclidean on unit sphere)\n",
    "lsh = BucketedRandomProjectionLSH(\n",
    "    inputCol=\"unitVec\",\n",
    "    outputCol=\"hashes\",\n",
    "    bucketLength=1.0,\n",
    "    numHashTables=5\n",
    ")\n",
    "lsh_model = lsh.fit(df_norm)\n",
    "\n",
    "# function to recommend books based on a given book title\n",
    "# it finds the k nearest neighbors based on cosine similarity\n",
    "def recommend(book_title: str, k: int = 5):\n",
    "    # locate the unit vector for the book\n",
    "    target_row = df_norm.filter(col(\"title\") == book_title).select(\"unitVec\").first()\n",
    "    if not target_row:\n",
    "        print(f\"Book '{book_title}' not found.\")\n",
    "        return\n",
    "    target_vec = target_row[0]\n",
    "\n",
    "    # find neighbors (Euclidean on unit sphere) and exclude self\n",
    "    neighbors = lsh_model.approxNearestNeighbors(df_norm, target_vec, k + 1)\n",
    "    recs = (\n",
    "        neighbors\n",
    "        .filter(col(\"title\") != book_title)\n",
    "        .withColumn(\"cosine_similarity\", expr(\"1 - (distCol * distCol) / 2\"))\n",
    "        .orderBy(col(\"cosine_similarity\").desc())\n",
    "        .limit(k)\n",
    "    )\n",
    "    print(f\"Top {k} recommendations for '{book_title}' (cosine similarity):\")\n",
    "    recs.select(\"title\", \"authors\", \"cosine_similarity\").show(truncate=False)\n",
    "\n",
    "#   recommendations for a few example books\n",
    "print(\"\\nGenerating recommendations for example books:\")\n",
    "for t in [\"The Firm\", \"Left Behind\", \"The Pelican Brief\"]:\n",
    "    recommend(t, k=5)   \n",
    "\n",
    "spark.stop()\n"
   ]
  }
 ],
 "metadata": {
  "kernelspec": {
   "display_name": ".venv",
   "language": "python",
   "name": "python3"
  },
  "language_info": {
   "codemirror_mode": {
    "name": "ipython",
    "version": 3
   },
   "file_extension": ".py",
   "mimetype": "text/x-python",
   "name": "python",
   "nbconvert_exporter": "python",
   "pygments_lexer": "ipython3",
   "version": "3.12.3"
  }
 },
 "nbformat": 4,
 "nbformat_minor": 5
}
