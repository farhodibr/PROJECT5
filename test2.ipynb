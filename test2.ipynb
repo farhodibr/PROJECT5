{
 "cells": [
  {
   "cell_type": "code",
   "execution_count": 1,
   "id": "fb885bab",
   "metadata": {},
   "outputs": [],
   "source": [
    "import os\n",
    "import os\n",
    "\n",
    "\n",
    "from pyspark.sql import SparkSession\n",
    "\n",
    "\n",
    "#"
   ]
  },
  {
   "cell_type": "code",
   "execution_count": 2,
   "id": "6e45ad11",
   "metadata": {},
   "outputs": [],
   "source": [
    "spark = SparkSession.builder.appName('Dataframe').getOrCreate()"
   ]
  },
  {
   "cell_type": "code",
   "execution_count": 4,
   "id": "9d2f44f7",
   "metadata": {},
   "outputs": [
    {
     "data": {
      "text/html": [
       "\n",
       "            <div>\n",
       "                <p><b>SparkSession - in-memory</b></p>\n",
       "                \n",
       "        <div>\n",
       "            <p><b>SparkContext</b></p>\n",
       "\n",
       "            <p><a href=\"http://192.168.1.207:4040\">Spark UI</a></p>\n",
       "\n",
       "            <dl>\n",
       "              <dt>Version</dt>\n",
       "                <dd><code>v4.0.0</code></dd>\n",
       "              <dt>Master</dt>\n",
       "                <dd><code>local[*]</code></dd>\n",
       "              <dt>AppName</dt>\n",
       "                <dd><code>Dataframe</code></dd>\n",
       "            </dl>\n",
       "        </div>\n",
       "        \n",
       "            </div>\n",
       "        "
      ],
      "text/plain": [
       "<pyspark.sql.session.SparkSession at 0x1ecb5b89160>"
      ]
     },
     "execution_count": 4,
     "metadata": {},
     "output_type": "execute_result"
    }
   ],
   "source": [
    "spark"
   ]
  },
  {
   "cell_type": "code",
   "execution_count": 11,
   "id": "4fff1801",
   "metadata": {},
   "outputs": [
    {
     "name": "stdout",
     "output_type": "stream",
     "text": [
      "root\n",
      " |-- User-ID: integer (nullable = true)\n",
      " |-- ISBN: string (nullable = true)\n",
      " |-- Book-Rating: integer (nullable = true)\n",
      "\n",
      "+-------+----------+-----------+\n",
      "|User-ID|      ISBN|Book-Rating|\n",
      "+-------+----------+-----------+\n",
      "| 276725|034545104X|          0|\n",
      "| 276726|0155061224|          5|\n",
      "| 276727|0446520802|          0|\n",
      "| 276729|052165615X|          3|\n",
      "| 276729|0521795028|          6|\n",
      "+-------+----------+-----------+\n",
      "only showing top 5 rows\n"
     ]
    }
   ],
   "source": [
    "df = spark.read.option('header', 'true').csv(r\"C:\\Users\\farho\\datasets\\books_recommender\\Ratings.csv\", inferSchema=True)\n",
    "df.printSchema()\n",
    "df.show(5)"
   ]
  },
  {
   "cell_type": "code",
   "execution_count": 12,
   "id": "2e510608",
   "metadata": {},
   "outputs": [
    {
     "name": "stdout",
     "output_type": "stream",
     "text": [
      "root\n",
      " |-- User-ID: integer (nullable = true)\n",
      " |-- ISBN: string (nullable = true)\n",
      " |-- Book-Rating: integer (nullable = true)\n",
      "\n"
     ]
    }
   ],
   "source": [
    "df = spark.read.csv(r\"C:\\Users\\farho\\datasets\\books_recommender\\Ratings.csv\", header=True, inferSchema=True)\n",
    "df.printSchema()"
   ]
  },
  {
   "cell_type": "code",
   "execution_count": 9,
   "id": "5001e271",
   "metadata": {},
   "outputs": [
    {
     "name": "stdout",
     "output_type": "stream",
     "text": [
      "root\n",
      " |-- User-ID: string (nullable = true)\n",
      " |-- ISBN: string (nullable = true)\n",
      " |-- Book-Rating: string (nullable = true)\n",
      "\n"
     ]
    }
   ],
   "source": [
    "df.printSchema()"
   ]
  },
  {
   "cell_type": "code",
   "execution_count": 13,
   "id": "99360bca",
   "metadata": {},
   "outputs": [
    {
     "data": {
      "text/plain": [
       "['User-ID', 'ISBN', 'Book-Rating']"
      ]
     },
     "execution_count": 13,
     "metadata": {},
     "output_type": "execute_result"
    }
   ],
   "source": [
    "df.columns"
   ]
  },
  {
   "cell_type": "code",
   "execution_count": 15,
   "id": "484df6a9",
   "metadata": {},
   "outputs": [
    {
     "data": {
      "text/plain": [
       "[Row(User-ID=276725, ISBN='034545104X', Book-Rating=0),\n",
       " Row(User-ID=276726, ISBN='0155061224', Book-Rating=5),\n",
       " Row(User-ID=276727, ISBN='0446520802', Book-Rating=0),\n",
       " Row(User-ID=276729, ISBN='052165615X', Book-Rating=3),\n",
       " Row(User-ID=276729, ISBN='0521795028', Book-Rating=6)]"
      ]
     },
     "execution_count": 15,
     "metadata": {},
     "output_type": "execute_result"
    }
   ],
   "source": [
    "df.head(5)"
   ]
  },
  {
   "cell_type": "code",
   "execution_count": 18,
   "id": "2ff99f98",
   "metadata": {},
   "outputs": [
    {
     "name": "stdout",
     "output_type": "stream",
     "text": [
      "+-------+----------+\n",
      "|User-ID|      ISBN|\n",
      "+-------+----------+\n",
      "| 276725|034545104X|\n",
      "| 276726|0155061224|\n",
      "| 276727|0446520802|\n",
      "| 276729|052165615X|\n",
      "| 276729|0521795028|\n",
      "| 276733|2080674722|\n",
      "| 276736|3257224281|\n",
      "| 276737|0600570967|\n",
      "| 276744|038550120X|\n",
      "| 276745| 342310538|\n",
      "| 276746|0425115801|\n",
      "| 276746|0449006522|\n",
      "| 276746|0553561618|\n",
      "| 276746|055356451X|\n",
      "| 276746|0786013990|\n",
      "| 276746|0786014512|\n",
      "| 276747|0060517794|\n",
      "| 276747|0451192001|\n",
      "| 276747|0609801279|\n",
      "| 276747|0671537458|\n",
      "+-------+----------+\n",
      "only showing top 20 rows\n"
     ]
    }
   ],
   "source": [
    "df.select(['User-ID', 'ISBN']).show()"
   ]
  },
  {
   "cell_type": "code",
   "execution_count": 21,
   "id": "05ae2fdc",
   "metadata": {},
   "outputs": [
    {
     "data": {
      "text/plain": [
       "[('User-ID', 'int'), ('ISBN', 'string'), ('Book-Rating', 'int')]"
      ]
     },
     "execution_count": 21,
     "metadata": {},
     "output_type": "execute_result"
    }
   ],
   "source": [
    "df.dtypes"
   ]
  },
  {
   "cell_type": "code",
   "execution_count": 22,
   "id": "1a99faee",
   "metadata": {},
   "outputs": [
    {
     "data": {
      "text/plain": [
       "DataFrame[summary: string, User-ID: string, ISBN: string, Book-Rating: string]"
      ]
     },
     "execution_count": 22,
     "metadata": {},
     "output_type": "execute_result"
    }
   ],
   "source": [
    "df.describe()"
   ]
  },
  {
   "cell_type": "code",
   "execution_count": 23,
   "id": "f0933bfe",
   "metadata": {},
   "outputs": [
    {
     "name": "stdout",
     "output_type": "stream",
     "text": [
      "+-------+------------------+-----------+------------------+\n",
      "|summary|           User-ID|       ISBN|       Book-Rating|\n",
      "+-------+------------------+-----------+------------------+\n",
      "|  count|           1149780|    1149780|           1149780|\n",
      "|   mean|140386.39512602412|   Infinity|2.8669501991685364|\n",
      "| stddev| 80562.27771851169|        NaN| 3.854183859201664|\n",
      "|    min|                 2| 0330299891|                 0|\n",
      "|    max|            278854|  Ô½crosoft|                10|\n",
      "+-------+------------------+-----------+------------------+\n",
      "\n"
     ]
    }
   ],
   "source": [
    "df.describe().show()"
   ]
  },
  {
   "cell_type": "code",
   "execution_count": 27,
   "id": "6f1d257a",
   "metadata": {},
   "outputs": [],
   "source": [
    "df = df.withColumn('description', df['User-ID'] * 2)"
   ]
  },
  {
   "cell_type": "code",
   "execution_count": 28,
   "id": "61bb4cd2",
   "metadata": {},
   "outputs": [
    {
     "name": "stdout",
     "output_type": "stream",
     "text": [
      "+-------+----------+-----------+-----------+\n",
      "|User-ID|      ISBN|Book-Rating|description|\n",
      "+-------+----------+-----------+-----------+\n",
      "| 276725|034545104X|          0|     553450|\n",
      "| 276726|0155061224|          5|     553452|\n",
      "| 276727|0446520802|          0|     553454|\n",
      "| 276729|052165615X|          3|     553458|\n",
      "| 276729|0521795028|          6|     553458|\n",
      "| 276733|2080674722|          0|     553466|\n",
      "| 276736|3257224281|          8|     553472|\n",
      "| 276737|0600570967|          6|     553474|\n",
      "| 276744|038550120X|          7|     553488|\n",
      "| 276745| 342310538|         10|     553490|\n",
      "| 276746|0425115801|          0|     553492|\n",
      "| 276746|0449006522|          0|     553492|\n",
      "| 276746|0553561618|          0|     553492|\n",
      "| 276746|055356451X|          0|     553492|\n",
      "| 276746|0786013990|          0|     553492|\n",
      "| 276746|0786014512|          0|     553492|\n",
      "| 276747|0060517794|          9|     553494|\n",
      "| 276747|0451192001|          0|     553494|\n",
      "| 276747|0609801279|          0|     553494|\n",
      "| 276747|0671537458|          9|     553494|\n",
      "+-------+----------+-----------+-----------+\n",
      "only showing top 20 rows\n"
     ]
    }
   ],
   "source": [
    "df.show()"
   ]
  },
  {
   "cell_type": "code",
   "execution_count": 32,
   "id": "dad1e64c",
   "metadata": {},
   "outputs": [],
   "source": [
    "df = df.drop('description')"
   ]
  },
  {
   "cell_type": "code",
   "execution_count": 33,
   "id": "efa9cc29",
   "metadata": {},
   "outputs": [
    {
     "name": "stdout",
     "output_type": "stream",
     "text": [
      "+-------+----------+-----------+\n",
      "|User-ID|      ISBN|Book-Rating|\n",
      "+-------+----------+-----------+\n",
      "| 276725|034545104X|          0|\n",
      "| 276726|0155061224|          5|\n",
      "| 276727|0446520802|          0|\n",
      "| 276729|052165615X|          3|\n",
      "| 276729|0521795028|          6|\n",
      "| 276733|2080674722|          0|\n",
      "| 276736|3257224281|          8|\n",
      "| 276737|0600570967|          6|\n",
      "| 276744|038550120X|          7|\n",
      "| 276745| 342310538|         10|\n",
      "| 276746|0425115801|          0|\n",
      "| 276746|0449006522|          0|\n",
      "| 276746|0553561618|          0|\n",
      "| 276746|055356451X|          0|\n",
      "| 276746|0786013990|          0|\n",
      "| 276746|0786014512|          0|\n",
      "| 276747|0060517794|          9|\n",
      "| 276747|0451192001|          0|\n",
      "| 276747|0609801279|          0|\n",
      "| 276747|0671537458|          9|\n",
      "+-------+----------+-----------+\n",
      "only showing top 20 rows\n"
     ]
    }
   ],
   "source": [
    "df.show()"
   ]
  },
  {
   "cell_type": "code",
   "execution_count": 35,
   "id": "a60f20cf",
   "metadata": {},
   "outputs": [],
   "source": [
    "df = df.withColumnRenamed('ISBN', 'isbn')"
   ]
  },
  {
   "cell_type": "code",
   "execution_count": 36,
   "id": "dd604155",
   "metadata": {},
   "outputs": [
    {
     "name": "stdout",
     "output_type": "stream",
     "text": [
      "+-------+----------+-----------+\n",
      "|User-ID|      isbn|Book-Rating|\n",
      "+-------+----------+-----------+\n",
      "| 276725|034545104X|          0|\n",
      "| 276726|0155061224|          5|\n",
      "| 276727|0446520802|          0|\n",
      "| 276729|052165615X|          3|\n",
      "| 276729|0521795028|          6|\n",
      "| 276733|2080674722|          0|\n",
      "| 276736|3257224281|          8|\n",
      "| 276737|0600570967|          6|\n",
      "| 276744|038550120X|          7|\n",
      "| 276745| 342310538|         10|\n",
      "| 276746|0425115801|          0|\n",
      "| 276746|0449006522|          0|\n",
      "| 276746|0553561618|          0|\n",
      "| 276746|055356451X|          0|\n",
      "| 276746|0786013990|          0|\n",
      "| 276746|0786014512|          0|\n",
      "| 276747|0060517794|          9|\n",
      "| 276747|0451192001|          0|\n",
      "| 276747|0609801279|          0|\n",
      "| 276747|0671537458|          9|\n",
      "+-------+----------+-----------+\n",
      "only showing top 20 rows\n"
     ]
    }
   ],
   "source": [
    "df.show()"
   ]
  }
 ],
 "metadata": {
  "kernelspec": {
   "display_name": ".venv",
   "language": "python",
   "name": "python3"
  },
  "language_info": {
   "codemirror_mode": {
    "name": "ipython",
    "version": 3
   },
   "file_extension": ".py",
   "mimetype": "text/x-python",
   "name": "python",
   "nbconvert_exporter": "python",
   "pygments_lexer": "ipython3",
   "version": "3.13.3"
  }
 },
 "nbformat": 4,
 "nbformat_minor": 5
}
