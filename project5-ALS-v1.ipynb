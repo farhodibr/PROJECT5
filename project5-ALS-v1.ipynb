{
 "cells": [
  {
   "metadata": {},
   "cell_type": "markdown",
   "source": [
    "# DATA 612 PROJECT 5 PART 1\n",
    "Implementing a Recommender System\n",
    "on Spark: Collaborative Filtering via Spark Model\n",
    "\n",
    "Farhod Ibragimov\n",
    "\n",
    "Gillian McGovern"
   ],
   "id": "bd863ec57bb373c9"
  },
  {
   "metadata": {},
   "cell_type": "markdown",
   "source": [
    "## Introduction\n",
    "\n",
    "This project delves into creating a recommender system vis pyspark, and how it compares to our previous recommender algorithms using pandas. This is part 1 of the project which creates a collaborative filtering model via Spark.\n",
    "\n",
    "The dataset we will be using is ~1,000,000 book ratings from Kaggle. This dataset includes data on ratings, users and the books.\n",
    "\n",
    "Data source: https://www.kaggle.com/datasets/arashnic/book-recommendation-dataset/data\n",
    "\n",
    "Note: This jupyter notebook was run locally"
   ],
   "id": "66342c7bb0170251"
  },
  {
   "metadata": {},
   "cell_type": "markdown",
   "source": "## Create the Spark Session\n",
   "id": "8e785b8e9aa1a1c8"
  },
  {
   "cell_type": "code",
   "id": "503d740967c8444d",
   "metadata": {
    "ExecuteTime": {
     "end_time": "2025-07-03T20:00:21.114786Z",
     "start_time": "2025-07-03T20:00:20.219553Z"
    }
   },
   "source": [
    "# import select functions and types\n",
    "from pyspark.sql.types import IntegerType, StringType\n",
    "from pyspark.sql.functions import floor, round, monotonically_increasing_id, col\n",
    "from pyspark.sql import SparkSession\n",
    "from pyspark.ml.evaluation import RegressionEvaluator\n",
    "from pyspark.ml.recommendation import ALS\n",
    "from pyspark.sql import Row\n",
    "from pyspark import SparkFiles\n",
    "from pyspark.ml.evaluation import RegressionEvaluator\n",
    "from pyspark.ml.tuning import ParamGridBuilder, CrossValidator\n",
    "from pyspark.sql.types import StructType, StructField, StringType, IntegerType, ArrayType\n",
    "from concurrent.futures import ThreadPoolExecutor, as_completed\n",
    "from pyspark.sql.functions import concat_ws, col\n",
    "\n",
    "# import modules using an alias\n",
    "import pyspark.sql.types as T\n",
    "import pyspark.sql.functions as F\n",
    "import requests\n",
    "import matplotlib.pyplot as plt\n",
    "import seaborn as sns\n",
    "import time\n",
    "import csv\n",
    "import os\n",
    "import pandas as pd\n",
    "\n",
    "\n",
    "\n",
    "GITHUB_URL = \"https://raw.githubusercontent.com/farhodibr/datasets/heads/main/books_recommender/\""
   ],
   "outputs": [
    {
     "name": "stderr",
     "output_type": "stream",
     "text": [
      "/Users/gillianmcgovern/PyCharmMiscProject/.venv/lib/python3.9/site-packages/urllib3/__init__.py:35: NotOpenSSLWarning: urllib3 v2 only supports OpenSSL 1.1.1+, currently the 'ssl' module is compiled with 'LibreSSL 2.8.3'. See: https://github.com/urllib3/urllib3/issues/3020\n",
      "  warnings.warn(\n"
     ]
    }
   ],
   "execution_count": 1
  },
  {
   "cell_type": "code",
   "id": "5584cc20ea7f7156",
   "metadata": {
    "ExecuteTime": {
     "end_time": "2025-07-03T20:00:24.041729Z",
     "start_time": "2025-07-03T20:00:21.120545Z"
    }
   },
   "source": [
    "from pyspark import SparkConf\n",
    "conf = SparkConf()\n",
    "conf.setMaster(\"local[*]\").setAppName(\"MySparkApp\")\n",
    "conf.set(\"spark.executor.memory\", \"10g\")\n",
    "\n",
    "spark = SparkSession.builder.config(conf=conf).getOrCreate()\n",
    "spark.sparkContext.setCheckpointDir(\"checkpoint_dir_als\")\n"
   ],
   "outputs": [
    {
     "name": "stderr",
     "output_type": "stream",
     "text": [
      "WARNING: Using incubator modules: jdk.incubator.vector\n",
      "Using Spark's default log4j profile: org/apache/spark/log4j2-defaults.properties\n",
      "Setting default log level to \"WARN\".\n",
      "To adjust logging level use sc.setLogLevel(newLevel). For SparkR, use setLogLevel(newLevel).\n",
      "25/07/03 16:00:22 WARN NativeCodeLoader: Unable to load native-hadoop library for your platform... using builtin-java classes where applicable\n"
     ]
    }
   ],
   "execution_count": 2
  },
  {
   "cell_type": "code",
   "id": "3a161225",
   "metadata": {
    "ExecuteTime": {
     "end_time": "2025-07-03T20:00:24.126728Z",
     "start_time": "2025-07-03T20:00:24.125036Z"
    }
   },
   "source": [
    "#spark._jvm.org.apache.hadoop.util.VersionInfo.getVersion()\n",
    "#import subprocess\n",
    "#subprocess.run([\"winutils\",\"ls\"], check=True)\n",
    "\n"
   ],
   "outputs": [],
   "execution_count": 3
  },
  {
   "metadata": {},
   "cell_type": "markdown",
   "source": [
    "## Load the Data and Create Spark Data Frames\n",
    "\n",
    "Unlike Pandas, Spark can't read a file directly from GitHub, so the file must be downloaded via the Spark job. `pyspark.SparkContext.addFile` must be used to download and add the file, and `SparkFiles.get()` must be used to access the file."
   ],
   "id": "93e48b4e33df8353"
  },
  {
   "cell_type": "code",
   "id": "94badb39ddde1ca1",
   "metadata": {
    "ExecuteTime": {
     "end_time": "2025-07-03T20:00:33.772828Z",
     "start_time": "2025-07-03T20:00:24.135646Z"
    }
   },
   "source": [
    "# Creat data frames\n",
    "books_file_name = \"Books\"\n",
    "ratings_file_name = \"Ratings\"\n",
    "users_file_name = \"Users\"\n",
    "filenames = [books_file_name, ratings_file_name, users_file_name]\n",
    "\n",
    "for filename in filenames:\n",
    "    download_url = f\"{GITHUB_URL}/{filename}.csv\"\n",
    "    spark.sparkContext.addFile(download_url)\n",
    "\n",
    "ratings_df = spark.read.csv(SparkFiles.get(f\"{ratings_file_name}.csv\"),\n",
    "  header=True,\n",
    "  inferSchema=True,\n",
    "  sep=\",\")\n",
    "\n",
    "books_df = spark.read.csv(SparkFiles.get(f\"{books_file_name}.csv\"),\n",
    "  header=True,\n",
    "  inferSchema=True,\n",
    "  sep=\",\")\n",
    "\n",
    "users_df = spark.read.csv(SparkFiles.get(f\"{users_file_name}.csv\"),\n",
    "  header=True,\n",
    "  inferSchema=True,\n",
    "  sep=\",\")\n",
    "\n",
    "ratings_df.show(5)"
   ],
   "outputs": [
    {
     "name": "stderr",
     "output_type": "stream",
     "text": [
      "                                                                                \r"
     ]
    },
    {
     "name": "stdout",
     "output_type": "stream",
     "text": [
      "+-------+----------+-----------+\n",
      "|User-ID|      ISBN|Book-Rating|\n",
      "+-------+----------+-----------+\n",
      "| 276725|034545104X|          0|\n",
      "| 276726|0155061224|          5|\n",
      "| 276727|0446520802|          0|\n",
      "| 276729|052165615X|          3|\n",
      "| 276729|0521795028|          6|\n",
      "+-------+----------+-----------+\n",
      "only showing top 5 rows\n"
     ]
    }
   ],
   "execution_count": 4
  },
  {
   "metadata": {
    "ExecuteTime": {
     "end_time": "2025-07-03T23:03:54.886791Z",
     "start_time": "2025-07-03T23:03:53.918578Z"
    }
   },
   "cell_type": "code",
   "source": "users_df.show(5)",
   "id": "3c07d4d657f05aac",
   "outputs": [
    {
     "name": "stdout",
     "output_type": "stream",
     "text": [
      "+-------+--------------------+----+\n",
      "|User-ID|            Location| Age|\n",
      "+-------+--------------------+----+\n",
      "|      1|  nyc, new york, usa|NULL|\n",
      "|      2|stockton, califor...|18.0|\n",
      "|      3|moscow, yukon ter...|NULL|\n",
      "|      4|porto, v.n.gaia, ...|17.0|\n",
      "|      5|farnborough, hant...|NULL|\n",
      "+-------+--------------------+----+\n",
      "only showing top 5 rows\n"
     ]
    }
   ],
   "execution_count": 71
  },
  {
   "metadata": {
    "ExecuteTime": {
     "end_time": "2025-07-03T23:04:16.309256Z",
     "start_time": "2025-07-03T23:04:16.047613Z"
    }
   },
   "cell_type": "code",
   "source": "books_df.show(5)",
   "id": "f77a02ce8584b914",
   "outputs": [
    {
     "name": "stdout",
     "output_type": "stream",
     "text": [
      "+----------+--------------------+--------------------+-------------------+--------------------+--------------------+--------------------+--------------------+\n",
      "|      ISBN|          Book-Title|         Book-Author|Year-Of-Publication|           Publisher|         Image-URL-S|         Image-URL-M|         Image-URL-L|\n",
      "+----------+--------------------+--------------------+-------------------+--------------------+--------------------+--------------------+--------------------+\n",
      "|0195153448| Classical Mythology|  Mark P. O. Morford|               2002|Oxford University...|http://images.ama...|http://images.ama...|http://images.ama...|\n",
      "|0002005018|        Clara Callan|Richard Bruce Wright|               2001|HarperFlamingo Ca...|http://images.ama...|http://images.ama...|http://images.ama...|\n",
      "|0060973129|Decision in Normandy|        Carlo D'Este|               1991|     HarperPerennial|http://images.ama...|http://images.ama...|http://images.ama...|\n",
      "|0374157065|Flu: The Story of...|    Gina Bari Kolata|               1999|Farrar Straus Giroux|http://images.ama...|http://images.ama...|http://images.ama...|\n",
      "|0393045218|The Mummies of Ur...|     E. J. W. Barber|               1999|W. W. Norton &amp...|http://images.ama...|http://images.ama...|http://images.ama...|\n",
      "+----------+--------------------+--------------------+-------------------+--------------------+--------------------+--------------------+--------------------+\n",
      "only showing top 5 rows\n"
     ]
    }
   ],
   "execution_count": 72
  },
  {
   "metadata": {},
   "cell_type": "markdown",
   "source": "## Data Preparation",
   "id": "27db12a76e816245"
  },
  {
   "cell_type": "code",
   "id": "b30092a16718f3e5",
   "metadata": {
    "ExecuteTime": {
     "end_time": "2025-07-03T20:00:36.175035Z",
     "start_time": "2025-07-03T20:00:33.822086Z"
    }
   },
   "source": [
    "# ALS data preparation - ALS good for sparse data\n",
    "\n",
    "users = users_df.select(\"User-ID\").distinct()\n",
    "# We want to prevent the same data/id to be used in different partitions, so just force use 1 partition for this\n",
    "users = users.coalesce(1)\n",
    "users = users.withColumn(\"userIntId\", monotonically_increasing_id()).persist() # use persist to keep these values the same\n",
    "\n",
    "books = ratings_df.select(\"ISBN\").distinct()\n",
    "books = books.coalesce(1)\n",
    "books = books.withColumn(\"bookIntId\", monotonically_increasing_id()).persist()\n",
    "\n",
    "ratings_df_int_ids = ratings_df.join(users, \"User-ID\", \"left\").join(books, \"ISBN\", \"left\")\n",
    "ratings_df_int_ids.show()"
   ],
   "outputs": [
    {
     "name": "stderr",
     "output_type": "stream",
     "text": [
      "                                                                                \r"
     ]
    },
    {
     "name": "stdout",
     "output_type": "stream",
     "text": [
      "+----------+-------+-----------+---------+---------+\n",
      "|      ISBN|User-ID|Book-Rating|userIntId|bookIntId|\n",
      "+----------+-------+-----------+---------+---------+\n",
      "|2080674722| 276733|          0|   275982|        0|\n",
      "|0060517794| 276747|          9|   133919|    18744|\n",
      "|0786013990| 276746|          0|     9804|    28964|\n",
      "| 342310538| 276745|         10|    78013|    40921|\n",
      "|034545104X| 276725|          0|   242789|    64860|\n",
      "|055356451X| 276746|          0|     9804|    90526|\n",
      "|0521795028| 276729|          6|    24942|   102491|\n",
      "|0449006522| 276746|          0|     9804|   107555|\n",
      "|0786014512| 276746|          0|     9804|   131215|\n",
      "|0451192001| 276747|          0|   133919|   142826|\n",
      "|0671537458| 276747|          9|   133919|   151387|\n",
      "|052165615X| 276729|          3|    24942|   156580|\n",
      "|0155061224| 276726|          5|   219046|   168644|\n",
      "|0553561618| 276746|          0|     9804|   173656|\n",
      "|0600570967| 276737|          6|   277429|   204294|\n",
      "|0446520802| 276727|          0|    65452|   240190|\n",
      "|3257224281| 276736|          8|   274623|   301430|\n",
      "|038550120X| 276744|          7|   237146|   301431|\n",
      "|0425115801| 276746|          0|     9804|   306388|\n",
      "|0609801279| 276747|          0|   133919|   311556|\n",
      "+----------+-------+-----------+---------+---------+\n",
      "only showing top 20 rows\n"
     ]
    }
   ],
   "execution_count": 5
  },
  {
   "metadata": {},
   "cell_type": "markdown",
   "source": [
    "## Trimming Down the Data\n",
    "\n",
    "Although Spark is great to use for large datasets, given the scope of this project, we must trim down the data to avoid memory issues running locally.\n",
    "\n",
    "So, we do two things here:\n",
    "\n",
    "* K-Core Filtering: We exclude any users who haven't rated at least 15 books and any books that haven't been rated at least 10 times. This gets rid of noise and creates a denser, more reliable core dataset.\n",
    "\n",
    "* Head/Tail Sampling: From that core, we create our final slice. We grab a mix of \"head\" users (the most active readers) and \"long-tail\" users (more typical, casual readers). We do the same for books. This ensures our models train on a dataset that reflects a realistic mix of popularity."
   ],
   "id": "ec9d235f636f0851"
  },
  {
   "metadata": {},
   "cell_type": "markdown",
   "source": "K-Core Filtering:",
   "id": "19eefa85e2e50f7c"
  },
  {
   "cell_type": "code",
   "id": "d8fd11b7c4beb217",
   "metadata": {
    "ExecuteTime": {
     "end_time": "2025-07-03T20:00:46.528274Z",
     "start_time": "2025-07-03T20:00:36.235217Z"
    }
   },
   "source": [
    "def create_k_core_subset(data, min_user_ratings=10, min_item_ratings=5):\n",
    "    \"\"\"\n",
    "    Creates a k-core subset of a ratings dataframe.\n",
    "\n",
    "    Args:\n",
    "        data (pd.DataFrame): The ratings dataframe with 'user_id' and 'isbn' columns.\n",
    "        min_user_ratings (int): The minimum number of ratings a user must have.\n",
    "        min_item_ratings (int): The minimum number of ratings an item must have.\n",
    "\n",
    "    Returns:\n",
    "        pd.DataFrame: A new dataframe representing the k-core.\n",
    "    \"\"\"\n",
    "    print(\"Starting k-core filtering...\")\n",
    "    k_core_data = data.alias(\"new_df\")\n",
    "\n",
    "    while True:\n",
    "        # Store the original size to check for changes\n",
    "        original_rows = k_core_data.count()\n",
    "        print(f\"Current dataset size: {original_rows} ratings\")\n",
    "\n",
    "        # Filter by minimum item ratings\n",
    "        item_counts= k_core_data.groupBy('ISBN').count()\n",
    "        items_to_keep= item_counts.filter(F.col(\"count\") >= min_item_ratings)\n",
    "        k_core_data =k_core_data.join(items_to_keep.select('ISBN'), 'ISBN', 'inner')\n",
    "\n",
    "        user_counts = k_core_data.groupBy('User-ID').count()\n",
    "        users_to_keep = user_counts.filter(F.col(\"count\") >= min_user_ratings)\n",
    "        # Keep only the User-IDs that are in our users_to_keep dataframe\n",
    "        k_core_data = k_core_data.join(users_to_keep.select('User-ID'), 'User-ID', 'inner')\n",
    "\n",
    "        # Checkpointing breaks the long lineage chain in iterative algorithms\n",
    "        # to prevent StackOverflow errors\n",
    "        k_core_data = k_core_data.checkpoint()\n",
    "\n",
    "        current_rows = k_core_data.count()\n",
    "        # Check if the size has stabilized\n",
    "        if current_rows == original_rows:\n",
    "            print(f\"\\nK-core filtering complete. Final dataset size: {current_rows} ratings\")\n",
    "            break\n",
    "\n",
    "    return k_core_data\n",
    "\n",
    "dense_subset = create_k_core_subset(ratings_df_int_ids, min_user_ratings=15, min_item_ratings=10)"
   ],
   "outputs": [
    {
     "name": "stdout",
     "output_type": "stream",
     "text": [
      "Starting k-core filtering...\n"
     ]
    },
    {
     "name": "stderr",
     "output_type": "stream",
     "text": [
      "                                                                                \r"
     ]
    },
    {
     "name": "stdout",
     "output_type": "stream",
     "text": [
      "Current dataset size: 1149780 ratings\n"
     ]
    },
    {
     "name": "stderr",
     "output_type": "stream",
     "text": [
      "                                                                                \r"
     ]
    },
    {
     "name": "stdout",
     "output_type": "stream",
     "text": [
      "Current dataset size: 388500 ratings\n",
      "Current dataset size: 344728 ratings\n",
      "Current dataset size: 341418 ratings\n",
      "Current dataset size: 341225 ratings\n",
      "\n",
      "K-core filtering complete. Final dataset size: 341225 ratings\n"
     ]
    }
   ],
   "execution_count": 6
  },
  {
   "metadata": {},
   "cell_type": "markdown",
   "source": [
    "After performing k-core filtering, the resulting dataset size is 341,225 ratings, which is much smaller and easier to work with.\n",
    "\n",
    "Head/Tail Sampling:"
   ],
   "id": "7f8a7a35fbfd5a3b"
  },
  {
   "cell_type": "code",
   "id": "9119d03d",
   "metadata": {
    "ExecuteTime": {
     "end_time": "2025-07-03T20:00:46.574867Z",
     "start_time": "2025-07-03T20:00:46.567643Z"
    }
   },
   "source": [
    "def create_head_tail_slice(ratings_df, n_head_users, n_tail_users, n_head_books, n_tail_books, seed=123):\n",
    "    \"\"\"\n",
    "    Performs head/tail sampling on a Spark DataFrame to create a representative subset.\n",
    "\n",
    "    Args:\n",
    "        ratings_df (DataFrame): The input ratings Spark DataFrame. Must contain 'User-ID' and 'ISBN'.\n",
    "        n_head_users (int): Number of most active users to select.\n",
    "        n_tail_users (int): Number of random less-active users to select.\n",
    "        n_head_books (int): Number of most popular books to select from the user slice.\n",
    "        n_tail_books (int): Number of random less-popular books to select.\n",
    "        seed (int): Random seed for reproducibility.\n",
    "\n",
    "    Returns:\n",
    "        DataFrame: The final sampled slice.\n",
    "    \"\"\"\n",
    "    \n",
    "\n",
    "    # Get user counts \n",
    "    user_counts = ratings_df.groupBy(\"User-ID\").count().withColumnRenamed(\"count\", \"user_rating_count\")\n",
    "\n",
    "    # Get the head users (most active)\n",
    "    head_users_df = user_counts.orderBy(F.desc(\"user_rating_count\")).limit(n_head_users)\n",
    "\n",
    "    # Get the tail candidates by finding users not in the head list\n",
    "    tail_candidates_df = user_counts.join(head_users_df, \"User-ID\", \"left_anti\")\n",
    "\n",
    "    # Get the tail users by sampling randomly from the candidates\n",
    "    # We do this by assigning a random number and taking the top N\n",
    "    tail_users_df = tail_candidates_df.withColumn(\"random\", F.rand(seed)).orderBy(\"random\").limit(n_tail_users)\n",
    "\n",
    "    # Combine head and tail users\n",
    "    selected_users_df = head_users_df.select(\"User-ID\").union(tail_users_df.select(\"User-ID\"))\n",
    "\n",
    "    # Restrict ratings to only the selected users (the user slice)\n",
    "    user_slice_df = ratings_df.join(selected_users_df, \"User-ID\", \"inner\")\n",
    "    \n",
    "    # It's a good practice to cache intermediate results that will be reused\n",
    "    user_slice_df.cache()\n",
    "    \n",
    "    # Get book counts from the user_slice\n",
    "    book_counts_sub = user_slice_df.groupBy(\"ISBN\").count().withColumnRenamed(\"count\", \"book_rating_count\")\n",
    "\n",
    "    # Get head books\n",
    "    head_books_sub_df = book_counts_sub.orderBy(F.desc(\"book_rating_count\")).limit(n_head_books)\n",
    "\n",
    "    # Get tail book candidates\n",
    "    tail_candidates_sub_df = book_counts_sub.join(head_books_sub_df, \"ISBN\", \"left_anti\")\n",
    "\n",
    "    # Get tail books\n",
    "    tail_books_sub_df = tail_candidates_sub_df.withColumn(\"random\", F.rand(seed + 1)).orderBy(\"random\").limit(n_tail_books)\n",
    "\n",
    "    # Combine head and tail books\n",
    "    selected_books_df = head_books_sub_df.select(\"ISBN\").union(tail_books_sub_df.select(\"ISBN\"))\n",
    "\n",
    "    # Build the final slice by joining the user_slice with selected books\n",
    "    final_slice_df = user_slice_df.join(selected_books_df, \"ISBN\", \"inner\")\n",
    "\n",
    "    # Clean up the cache\n",
    "    user_slice_df.unpersist()\n",
    "\n",
    "    return final_slice_df\n"
   ],
   "outputs": [],
   "execution_count": 7
  },
  {
   "cell_type": "code",
   "id": "8fb9f620",
   "metadata": {
    "ExecuteTime": {
     "end_time": "2025-07-03T20:00:48.180540Z",
     "start_time": "2025-07-03T20:00:46.610416Z"
    }
   },
   "source": [
    "# We will pick 720 users and 800 books to create \"long-tail\" dataset\n",
    "n_head_users, n_tail_users = 300, 800\n",
    "n_head_books, n_tail_books = 300, 800\n",
    "\n",
    "# Create the final slice\n",
    "final_slice = create_head_tail_slice(\n",
    "    dense_subset,\n",
    "    n_head_users, n_tail_users,\n",
    "    n_head_books, n_tail_books\n",
    ")\n",
    "\n",
    "final_slice.cache()\n",
    "\n",
    "display(\"Final slice shape:\", (final_slice.count(), len(final_slice.columns)))\n",
    "display(\"Selected users:\", final_slice.select(\"User-ID\").distinct().count())\n",
    "display(\"Selected books:\", final_slice.select('ISBN').distinct().count())"
   ],
   "outputs": [
    {
     "data": {
      "text/plain": [
       "'Final slice shape:'"
      ]
     },
     "metadata": {},
     "output_type": "display_data"
    },
    {
     "data": {
      "text/plain": [
       "(34277, 5)"
      ]
     },
     "metadata": {},
     "output_type": "display_data"
    },
    {
     "data": {
      "text/plain": [
       "'Selected users:'"
      ]
     },
     "metadata": {},
     "output_type": "display_data"
    },
    {
     "data": {
      "text/plain": [
       "1087"
      ]
     },
     "metadata": {},
     "output_type": "display_data"
    },
    {
     "data": {
      "text/plain": [
       "'Selected books:'"
      ]
     },
     "metadata": {},
     "output_type": "display_data"
    },
    {
     "data": {
      "text/plain": [
       "1100"
      ]
     },
     "metadata": {},
     "output_type": "display_data"
    }
   ],
   "execution_count": 8
  },
  {
   "metadata": {},
   "cell_type": "markdown",
   "source": "After head/tail sampling, our dataset now contains 34,277 ratings:",
   "id": "bc99b1da791afca3"
  },
  {
   "metadata": {
    "ExecuteTime": {
     "end_time": "2025-07-03T23:27:33.773041Z",
     "start_time": "2025-07-03T23:27:33.400398Z"
    }
   },
   "cell_type": "code",
   "source": "display(final_slice.show())",
   "id": "e9af018703190d2a",
   "outputs": [
    {
     "name": "stdout",
     "output_type": "stream",
     "text": [
      "+----------+-------+-----------+---------+---------+\n",
      "|      ISBN|User-ID|Book-Rating|userIntId|bookIntId|\n",
      "+----------+-------+-----------+---------+---------+\n",
      "|0440224837|  69042|          0|      361|     3508|\n",
      "|0446607053|  69042|          0|      361|     9200|\n",
      "|051513628X|  69042|          0|      361|    16978|\n",
      "|0515128546| 119517|          0|      597|    20532|\n",
      "|0140293248| 119517|          0|      597|    29015|\n",
      "|0451408462|  69042|          0|      361|    30793|\n",
      "|0451172817|  69042|          0|      361|    34093|\n",
      "|0671888587|  69042|          0|      361|    42659|\n",
      "|0553579606|  69042|          0|      361|    44285|\n",
      "|0590477455|  69042|          0|      361|    44595|\n",
      "|0345353145|  69042|          9|      361|    58020|\n",
      "|0515136530| 119517|          0|      597|    59814|\n",
      "|042516098X|  69042|          0|      361|    61527|\n",
      "|0345380371|  69042|          0|      361|    73337|\n",
      "|0061097101| 119517|          0|      597|    75044|\n",
      "|0440221471|  69042|          0|      361|    76800|\n",
      "|0446364193|  69042|          0|      361|    81917|\n",
      "|0449005925|  69042|          0|      361|    85612|\n",
      "|0671024248|  69042|          0|      361|    85371|\n",
      "|0064403688|  69042|          0|      361|    88913|\n",
      "+----------+-------+-----------+---------+---------+\n",
      "only showing top 20 rows\n"
     ]
    },
    {
     "data": {
      "text/plain": [
       "None"
      ]
     },
     "metadata": {},
     "output_type": "display_data"
    }
   ],
   "execution_count": 96
  },
  {
   "metadata": {},
   "cell_type": "markdown",
   "source": "Let's confirm the long tail shape:",
   "id": "6a36125462d18ffb"
  },
  {
   "cell_type": "code",
   "id": "73906710",
   "metadata": {
    "ExecuteTime": {
     "end_time": "2025-07-03T20:00:48.703111Z",
     "start_time": "2025-07-03T20:00:48.291753Z"
    }
   },
   "source": [
    "print(\"\\nCalculating long-tail distribution...\")\n",
    "bc_df = final_slice.groupBy(\"ISBN\").count().orderBy(F.desc(\"count\"))\n",
    "\n",
    "# Collect the result to the driver as a pandas DataFrame\n",
    "bc_pandas_df = bc_df.toPandas()\n",
    "\n",
    "# Now, use the pandas logic for plotting\n",
    "cum = bc_pandas_df['count'].cumsum() / bc_pandas_df['count'].sum()\n",
    "n80 = (cum <= 0.8).sum()\n",
    "\n",
    "#The denominator is the total number of unique books in the slice\n",
    "total_books = len(bc_pandas_df)\n",
    "print(f\"{n80}/{total_books} books cover 80% → {n80/total_books:.1%}\")\n",
    "\n",
    "# Plotting using matplotlib\n",
    "plt.hist(bc_pandas_df['count'].values, bins=20)\n",
    "plt.title(f\"{total_books}-book slice: ratings per book\")\n",
    "plt.xlabel(\"Ratings per book\")\n",
    "plt.ylabel(\"Number of books\")\n",
    "plt.show()"
   ],
   "outputs": [
    {
     "name": "stdout",
     "output_type": "stream",
     "text": [
      "\\nCalculating long-tail distribution...\n",
      "370/1100 books cover 80% → 33.6%\n"
     ]
    },
    {
     "data": {
      "text/plain": [
       "<Figure size 640x480 with 1 Axes>"
      ],
      "image/png": "[encoded data removed]"
     },
     "metadata": {},
     "output_type": "display_data"
    }
   ],
   "execution_count": 10
  },
  {
   "metadata": {
    "ExecuteTime": {
     "end_time": "2025-07-03T23:24:39.023096Z",
     "start_time": "2025-07-03T23:24:38.995933Z"
    }
   },
   "cell_type": "code",
   "source": "final_slice",
   "id": "9d31a2b1b714f426",
   "outputs": [
    {
     "data": {
      "text/plain": [
       "DataFrame[ISBN: string, User-ID: int, Book-Rating: int, userIntId: bigint, bookIntId: bigint]"
      ]
     },
     "execution_count": 90,
     "metadata": {},
     "output_type": "execute_result"
    }
   ],
   "execution_count": 90
  },
  {
   "metadata": {},
   "cell_type": "markdown",
   "source": "## Collaborative Filtering Spark Model (ALS)",
   "id": "10d251127913b304"
  },
  {
   "metadata": {},
   "cell_type": "markdown",
   "source": "Spark's main collaborative filtering model is `pyspark.ml.recommendation.ALS`. ALS is used instead of SVD since unlike SVD, ALS is conducive to breaking down into parallel processing.",
   "id": "540e325e282ed6aa"
  },
  {
   "metadata": {
    "ExecuteTime": {
     "end_time": "2025-07-03T20:00:48.769453Z",
     "start_time": "2025-07-03T20:00:48.717668Z"
    }
   },
   "cell_type": "code",
   "source": [
    "# Focus on userIntId, bookIntId, and Book-Rating for Spark ALS\n",
    "ratings = final_slice.select(col(\"userIntId\").alias(\"userId\"), col(\"bookIntId\").alias(\"bookId\"), col(\"Book-Rating\").alias(\"rating\"))\n",
    "display(ratings.show())"
   ],
   "id": "d734ba9ba56aff14",
   "outputs": [
    {
     "name": "stdout",
     "output_type": "stream",
     "text": [
      "+------+------+------+\n",
      "|userId|bookId|rating|\n",
      "+------+------+------+\n",
      "|   361|  3508|     0|\n",
      "|   361|  9200|     0|\n",
      "|   361| 16978|     0|\n",
      "|   597| 20532|     0|\n",
      "|   597| 29015|     0|\n",
      "|   361| 30793|     0|\n",
      "|   361| 34093|     0|\n",
      "|   361| 42659|     0|\n",
      "|   361| 44285|     0|\n",
      "|   361| 44595|     0|\n",
      "|   361| 58020|     9|\n",
      "|   597| 59814|     0|\n",
      "|   361| 61527|     0|\n",
      "|   361| 73337|     0|\n",
      "|   597| 75044|     0|\n",
      "|   361| 76800|     0|\n",
      "|   361| 81917|     0|\n",
      "|   361| 85612|     0|\n",
      "|   361| 85371|     0|\n",
      "|   361| 88913|     0|\n",
      "+------+------+------+\n",
      "only showing top 20 rows\n"
     ]
    },
    {
     "data": {
      "text/plain": [
       "None"
      ]
     },
     "metadata": {},
     "output_type": "display_data"
    }
   ],
   "execution_count": 11
  },
  {
   "metadata": {},
   "cell_type": "markdown",
   "source": "### Create training and test data",
   "id": "6e094f299555aa94"
  },
  {
   "metadata": {
    "ExecuteTime": {
     "end_time": "2025-07-03T21:36:03.592993Z",
     "start_time": "2025-07-03T21:36:03.199939Z"
    }
   },
   "cell_type": "code",
   "source": [
    "# Split the ratings into training and test data\n",
    "(training_data, test_data) = ratings.randomSplit([0.7, 0.3], seed=42)\n",
    "test_data_cached = test_data.cache()\n",
    "training_data_cached = training_data.cache()"
   ],
   "id": "3aca3f8dafd2a1a",
   "outputs": [
    {
     "name": "stderr",
     "output_type": "stream",
     "text": [
      "25/07/03 17:36:03 WARN CacheManager: Asked to cache already cached data.\n"
     ]
    }
   ],
   "execution_count": 33
  },
  {
   "metadata": {},
   "cell_type": "markdown",
   "source": [
    "According to Spark's documentation, here is a breakdown of `ALS`'s parameters:\n",
    "* numBlocks is the number of blocks the users and items will be partitioned into in order to parallelize computation (defaults to 10).\n",
    "* rank is the number of latent factors in the model (defaults to 10).\n",
    "* maxIter is the maximum number of iterations to run (defaults to 10).\n",
    "* regParam specifies the regularization parameter in ALS (defaults to 1.0).\n",
    "* implicitPrefs specifies whether to use the explicit feedback ALS variant or one adapted for implicit feedback data (defaults to false which means using explicit feedback).\n",
    "* alpha is a parameter applicable to the implicit feedback variant of ALS that governs the baseline confidence in preference observations (defaults to 1.0).\n",
    "* nonnegative specifies whether or not to use nonnegative constraints for least squares (defaults to false)."
   ],
   "id": "3e589aa7e3e5c0b8"
  },
  {
   "metadata": {},
   "cell_type": "markdown",
   "source": "### ALS Model (No Tuning)",
   "id": "d0c79442ccd57024"
  },
  {
   "metadata": {
    "ExecuteTime": {
     "end_time": "2025-07-03T20:00:51.228929Z",
     "start_time": "2025-07-03T20:00:48.834013Z"
    }
   },
   "cell_type": "code",
   "source": [
    "# Set cold start strategy to 'drop' to ensure we don't get NaN evaluation metrics\n",
    "als = ALS(userCol=\"userId\", itemCol=\"bookId\", ratingCol=\"rating\", rank = 10, maxIter = 15, regParam = .1,\n",
    "          coldStartStrategy=\"drop\", nonnegative = True, implicitPrefs = False)\n",
    "\n",
    "# Fit the model to the training_data\n",
    "model = als.fit(training_data_cached)\n",
    "\n",
    "# Generate predictions on the test_data\n",
    "test_predictions = model.transform(test_data_cached)"
   ],
   "id": "53b4c1bc76b54cf1",
   "outputs": [
    {
     "name": "stderr",
     "output_type": "stream",
     "text": [
      "25/07/03 16:00:49 WARN InstanceBuilder: Failed to load implementation from:dev.ludovic.netlib.blas.JNIBLAS\n"
     ]
    }
   ],
   "execution_count": 13
  },
  {
   "metadata": {
    "ExecuteTime": {
     "end_time": "2025-07-03T20:00:51.688672Z",
     "start_time": "2025-07-03T20:00:51.279465Z"
    }
   },
   "cell_type": "code",
   "source": "display(test_predictions.show())",
   "id": "f6b640e30f38c7a5",
   "outputs": [
    {
     "name": "stdout",
     "output_type": "stream",
     "text": [
      "+------+------+------+-----------+\n",
      "|userId|bookId|rating| prediction|\n",
      "+------+------+------+-----------+\n",
      "| 18051|  8528|     0|  0.6802998|\n",
      "| 18051| 24009|     0| 0.83428943|\n",
      "| 18051| 47736|     0| 0.14481975|\n",
      "| 18051| 51450|     0|        0.0|\n",
      "| 18051| 58012|     0| 0.41821975|\n",
      "| 18051| 93904|     0|  0.1736164|\n",
      "| 18051|107566|     0| 0.14929721|\n",
      "| 18051|109275|     0| 0.77849776|\n",
      "| 18051|160114|     0|0.061431136|\n",
      "| 72702|104196|     0|  4.8583765|\n",
      "| 92317|  8565|     6|   4.105564|\n",
      "| 92317| 25664|     9|  0.7474311|\n",
      "| 92317| 76800|     0|  1.5671599|\n",
      "|166150| 95621|     0| 0.64720666|\n",
      "|251529|  3479|     0|  1.1429398|\n",
      "|251529|109275|     0| 0.42575198|\n",
      "|251529|129512|     0|  1.6466571|\n",
      "|251529|134549|     0|        0.0|\n",
      "|251529|166985|     0|   5.621513|\n",
      "| 36982|166989|     0|   6.625345|\n",
      "+------+------+------+-----------+\n",
      "only showing top 20 rows\n"
     ]
    }
   ],
   "execution_count": 14
  },
  {
   "metadata": {},
   "cell_type": "markdown",
   "source": "### Hyperparamter Tuning",
   "id": "7490160cb58e1da8"
  },
  {
   "metadata": {
    "ExecuteTime": {
     "end_time": "2025-07-03T21:37:59.716614Z",
     "start_time": "2025-07-03T21:36:09.327136Z"
    }
   },
   "cell_type": "code",
   "source": [
    "# Hyperparameter tuning\n",
    "\n",
    "param_grid = ParamGridBuilder() \\\n",
    "           .addGrid(als.rank, [10, 50, 75, 100]) \\\n",
    "           .addGrid(als.maxIter, [10]) \\\n",
    "           .addGrid(als.regParam, [.05, .1, .15]) \\\n",
    "           .build()\n",
    "\n",
    "# Create RMSE evaluator\n",
    "evaluator = RegressionEvaluator(metricName=\"rmse\", labelCol=\"rating\", predictionCol=\"prediction\")\n",
    "\n",
    "# Use cross validation\n",
    "cv = CrossValidator(estimator=als, estimatorParamMaps=param_grid, evaluator=evaluator, numFolds=5, collectSubModels=True)\n",
    "\n",
    "# Checkpoint the training data to truncate its lineage.\n",
    "# This is a lazy operation, it will be triggered by the .fit() call.\n",
    "training_data_chkp = training_data_cached.checkpoint()\n",
    "\n",
    "# Fit the cross validator on the CHECKPOINTED DataFrame.\n",
    "model = cv.fit(training_data_chkp)\n",
    "\n",
    "# Best model\n",
    "best_model = model.bestModel\n",
    "\n",
    "# Average RMSE for each model\n",
    "avg_rmse_models = model.avgMetrics\n",
    "\n",
    "display(f\"{len(param_grid)} models tested\")"
   ],
   "id": "29e62c69f9e7c6da",
   "outputs": [
    {
     "data": {
      "text/plain": [
       "'12 models tested'"
      ]
     },
     "metadata": {},
     "output_type": "display_data"
    }
   ],
   "execution_count": 34
  },
  {
   "metadata": {},
   "cell_type": "markdown",
   "source": "### Tuning Graphs",
   "id": "6d8732d74c69d364"
  },
  {
   "metadata": {
    "ExecuteTime": {
     "end_time": "2025-07-03T22:59:41.346644Z",
     "start_time": "2025-07-03T22:59:41.117490Z"
    }
   },
   "cell_type": "code",
   "source": [
    "# Graphs\n",
    "\n",
    "ranks = []\n",
    "reg_params = []\n",
    "for dict in cv.getEstimatorParamMaps():\n",
    "    for param in dict.keys():\n",
    "        if param.name == 'rank':\n",
    "            rank_param = param\n",
    "            ranks.append(dict[rank_param])\n",
    "        if param.name == 'regParam':\n",
    "            reg_param = param\n",
    "            reg_params.append(dict[reg_param])\n",
    "\n",
    "data = {\n",
    "    'rmse': avg_rmse_models,\n",
    "    'rank': ranks,\n",
    "    'regParam': reg_params\n",
    "}\n",
    "\n",
    "als_results_df = pd.DataFrame(data)\n",
    "\n",
    "als_results_df_grouped = als_results_df.groupby(['rank', 'regParam']).agg(\n",
    "    avg_rmse=('rmse', 'mean')\n",
    ").reset_index()\n",
    "\n",
    "plt.plot(als_results_df_grouped['rank'], als_results_df_grouped['avg_rmse'])\n",
    "plt.xlabel(\"Rank\")\n",
    "plt.ylabel(\"Average RMSE\")\n",
    "plt.title(\"Average RMSE vs. Rank K\")\n",
    "plt.show()\n",
    "\n",
    "plt.plot(reg_params, avg_rmse_models)\n",
    "plt.xlabel(\"regParam\")\n",
    "plt.ylabel(\"Average RMSE\")\n",
    "plt.title(\"Average RMSE vs. regParam\")\n",
    "plt.show()\n",
    "\n",
    "import pandas as pd\n",
    "import seaborn as sns\n",
    "import matplotlib.pyplot as plt\n",
    "\n",
    "\n",
    "als_results_df_grouped_pivot = als_results_df_grouped.pivot(index='regParam', columns='rank', values='avg_rmse')\n",
    "\n",
    "# Plot heatmap\n",
    "plt.figure(figsize=(8, 6))\n",
    "sns.heatmap(als_results_df_grouped_pivot, annot=True, fmt=\".4f\", cmap='viridis', cbar_kws={'label': 'RMSE'})\n",
    "plt.title('Heatmap of RMSE by Rank and regParam')\n",
    "plt.xlabel('Rank')\n",
    "plt.ylabel('Regularization Parameter (regParam)')\n",
    "plt.show()\n"
   ],
   "id": "6be13a177edb07bf",
   "outputs": [
    {
     "data": {
      "text/plain": [
       "<Figure size 640x480 with 1 Axes>"
      ],
      "image/png": "[encoded data removed]"
     },
     "metadata": {},
     "output_type": "display_data"
    },
    {
     "data": {
      "text/plain": [
       "<Figure size 640x480 with 1 Axes>"
      ],
      "image/png": "[encoded data removed]"
     },
     "metadata": {},
     "output_type": "display_data"
    },
    {
     "data": {
      "text/plain": [
       "<Figure size 800x600 with 2 Axes>"
      ],
      "image/png": "[encoded data removed]"
     },
     "metadata": {},
     "output_type": "display_data"
    }
   ],
   "execution_count": 70
  },
  {
   "metadata": {},
   "cell_type": "markdown",
   "source": "### Best ALS Model",
   "id": "2dd099a56863e642"
  },
  {
   "metadata": {
    "ExecuteTime": {
     "end_time": "2025-07-03T22:27:49.934034Z",
     "start_time": "2025-07-03T22:27:49.924043Z"
    }
   },
   "cell_type": "code",
   "source": [
    "display(f\"Best Model Rank: {best_model.rank}\")\n",
    "display(f\"Best Model Params: {best_model.params}\")"
   ],
   "id": "5d4f3d7bc16fee18",
   "outputs": [
    {
     "data": {
      "text/plain": [
       "'Best Model Rank: 100'"
      ]
     },
     "metadata": {},
     "output_type": "display_data"
    },
    {
     "data": {
      "text/plain": [
       "'Best Model Params: [Param(parent=\\'ALS_7d6fb1ce1a98\\', name=\\'blockSize\\', doc=\\'block size for stacking input data in matrices. Data is stacked within partitions. If block size is more than remaining data in a partition then it is adjusted to the size of this data.\\'), Param(parent=\\'ALS_7d6fb1ce1a98\\', name=\\'coldStartStrategy\\', doc=\"strategy for dealing with unknown or new users/items at prediction time. This may be useful in cross-validation or production scenarios, for handling user/item ids the model has not seen in the training data. Supported values: \\'nan\\', \\'drop\\'.\"), Param(parent=\\'ALS_7d6fb1ce1a98\\', name=\\'itemCol\\', doc=\\'column name for item ids. Ids must be within the integer value range.\\'), Param(parent=\\'ALS_7d6fb1ce1a98\\', name=\\'predictionCol\\', doc=\\'prediction column name.\\'), Param(parent=\\'ALS_7d6fb1ce1a98\\', name=\\'userCol\\', doc=\\'column name for user ids. Ids must be within the integer value range.\\')]'"
      ]
     },
     "metadata": {},
     "output_type": "display_data"
    }
   ],
   "execution_count": 57
  },
  {
   "metadata": {},
   "cell_type": "markdown",
   "source": "### Test Data RMSE",
   "id": "2f960c0ff4b317d4"
  },
  {
   "metadata": {
    "ExecuteTime": {
     "end_time": "2025-07-03T23:16:41.651642Z",
     "start_time": "2025-07-03T23:16:38.483732Z"
    }
   },
   "cell_type": "code",
   "source": [
    "# test_data_cached = test_data.cache()\n",
    "test_predictions = best_model.transform(test_data_cached)\n",
    "test_predictions_cached = test_predictions.cache()\n",
    "\n",
    "# Calculate the RMSE of test_predictions\n",
    "rmse = evaluator.evaluate(test_predictions_cached)\n",
    "display(rmse)"
   ],
   "id": "7b64a7eb0a8628b4",
   "outputs": [
    {
     "name": "stderr",
     "output_type": "stream",
     "text": [
      "                                                                                \r"
     ]
    },
    {
     "data": {
      "text/plain": [
       "3.5193537170930855"
      ]
     },
     "metadata": {},
     "output_type": "display_data"
    }
   ],
   "execution_count": 75
  },
  {
   "metadata": {},
   "cell_type": "markdown",
   "source": "### Make Predictions",
   "id": "d6317d616a1d7345"
  },
  {
   "metadata": {
    "ExecuteTime": {
     "end_time": "2025-07-03T23:21:54.383575Z",
     "start_time": "2025-07-03T23:21:53.826044Z"
    }
   },
   "cell_type": "code",
   "source": [
    "user_counts = ratings.filter(col(\"rating\") != 0).groupBy(\"userId\").count().withColumnRenamed(\"count\", \"user_rating_count\")\n",
    "user_counts.show()"
   ],
   "id": "22e83051ded3b1e",
   "outputs": [
    {
     "name": "stdout",
     "output_type": "stream",
     "text": [
      "+------+-----------------+\n",
      "|userId|user_rating_count|\n",
      "+------+-----------------+\n",
      "| 64317|                5|\n",
      "| 84120|               26|\n",
      "|115457|                7|\n",
      "|133164|               10|\n",
      "|171782|                8|\n",
      "|173929|               20|\n",
      "| 42653|                2|\n",
      "| 45956|               10|\n",
      "|188225|                8|\n",
      "|271837|                6|\n",
      "| 39524|                7|\n",
      "| 57248|                6|\n",
      "|268472|                1|\n",
      "|273016|                1|\n",
      "|278792|                1|\n",
      "|164189|                5|\n",
      "|176844|                5|\n",
      "|211490|               12|\n",
      "| 80707|                4|\n",
      "| 90766|               11|\n",
      "+------+-----------------+\n",
      "only showing top 20 rows\n"
     ]
    }
   ],
   "execution_count": 87
  },
  {
   "metadata": {
    "ExecuteTime": {
     "end_time": "2025-07-03T23:36:39.320298Z",
     "start_time": "2025-07-03T23:36:36.028384Z"
    }
   },
   "cell_type": "code",
   "source": [
    "def make_als_prediction(test_predictions, userId):\n",
    "    already_seen_movies = ratings.filter((col(\"userId\") == userId) & (col(\"rating\") != 0))\n",
    "    als_user_predictions = test_predictions.filter(col(\"userId\") == userId)\n",
    "    final_df = als_user_predictions.join(already_seen_movies, \"bookId\", \"left_anti\")\n",
    "    return final_df.sort(final_df.prediction.desc())\n",
    "\n",
    "als_user_predictions = make_als_prediction(test_predictions_cached, 84120)\n",
    "als_user_predictions.show()"
   ],
   "id": "b0cdc2d771e7c7cf",
   "outputs": [
    {
     "name": "stderr",
     "output_type": "stream",
     "text": [
      "[Stage 116753:================================>                 (129 + 8) / 200]\r"
     ]
    },
    {
     "name": "stdout",
     "output_type": "stream",
     "text": [
      "+------+------+------+----------+\n",
      "|bookId|userId|rating|prediction|\n",
      "+------+------+------+----------+\n",
      "| 27305| 84120|     0| 9.2345705|\n",
      "| 30682| 84120|     0| 7.0612874|\n",
      "| 16991| 84120|     0|  4.456969|\n",
      "| 30692| 84120|     0|  4.349996|\n",
      "| 80191| 84120|     0|  4.347192|\n",
      "|224938| 84120|     0| 3.3740413|\n",
      "|241959| 84120|     0| 3.2472444|\n",
      "|231748| 84120|     0| 2.4069738|\n",
      "|197638| 84120|     0| 2.1862333|\n",
      "|338899| 84120|     0| 1.8425243|\n",
      "|178854| 84120|     0| 1.4025521|\n",
      "|134548| 84120|     0| 1.1569939|\n",
      "|179072| 84120|     0|0.87449855|\n",
      "| 54569| 84120|     0|0.55811936|\n",
      "+------+------+------+----------+\n",
      "\n"
     ]
    },
    {
     "name": "stderr",
     "output_type": "stream",
     "text": [
      "                                                                                \r"
     ]
    }
   ],
   "execution_count": 100
  },
  {
   "metadata": {},
   "cell_type": "code",
   "outputs": [],
   "execution_count": null,
   "source": " #spark.stop()",
   "id": "867bc00932d1ada4"
  },
  {
   "metadata": {},
   "cell_type": "markdown",
   "source": "## Conclusion",
   "id": "81a183960346d558"
  },
  {
   "cell_type": "code",
   "id": "55a02677",
   "metadata": {
    "ExecuteTime": {
     "end_time": "2025-07-03T20:02:32.315229Z",
     "start_time": "2025-07-03T20:02:32.307513Z"
    }
   },
   "source": [
    "# GITHUB_RAW_BASE = \"https://raw.githubusercontent.com/farhodibr/PROJECT5/main\"\n",
    "# SINGLE_URL      = f\"{GITHUB_RAW_BASE}/book_metadata/metadata_all.csv\"\n",
    "# PARTS_URL_FMT   = f\"{GITHUB_RAW_BASE}/book_metadata_parts/metadata_part_{{}}.csv\"\n",
    "#\n",
    "# OUTPUT_DIR      = \"book_metadata_parts\"\n",
    "# os.makedirs(OUTPUT_DIR, exist_ok=True)\n",
    "#\n",
    "# # test if a raw GitHub URL exists\n",
    "# def remote_exists(url: str) -> bool:\n",
    "#     try:\n",
    "#         return requests.head(url, timeout=5).status_code == 200\n",
    "#     except requests.RequestException:\n",
    "#         return False\n",
    "#\n",
    "# final_schema = StructType([\n",
    "#     StructField(\"ISBN\",             StringType(), True),\n",
    "#     StructField(\"title\",            StringType(), True),\n",
    "#     StructField(\"description\",      StringType(), True),\n",
    "#     StructField(\"authors\",          StringType(), True),\n",
    "#     StructField(\"publish_date\",     StringType(), True),\n",
    "#     StructField(\"publisher\",        StringType(), True),\n",
    "#     StructField(\"number_of_pages\",  IntegerType(), True),\n",
    "#     StructField(\"subjects\",         StringType(), True)\n",
    "# ])\n",
    "#\n",
    "# # Try loading the single combined CSV from GitHub\n",
    "# if remote_exists(SINGLE_URL):\n",
    "#     print(\"✅ Found metadata_all.csv on GitHub. Loading via pandas → Spark.\")\n",
    "#     pdf = pd.read_csv(SINGLE_URL)\n",
    "#     # ensure integer pages\n",
    "#     pdf['number_of_pages'] = pdf['number_of_pages'].fillna(0).astype(int)\n",
    "#     metadata_df = (\n",
    "#         spark.createDataFrame(pdf, schema=final_schema)\n",
    "#              .cache()\n",
    "#     )\n",
    "#\n",
    "# # Else try loading numbered parts from GitHub\n",
    "# elif remote_exists(PARTS_URL_FMT.format(1)):\n",
    "#     print(\"found metadata parts on GitHub. Loading all parts via pandas → Spark.\")\n",
    "#     parts_urls = []\n",
    "#     i = 1\n",
    "#     while remote_exists(PARTS_URL_FMT.format(i)):\n",
    "#         parts_urls.append(PARTS_URL_FMT.format(i))\n",
    "#         i += 1\n",
    "#\n",
    "#     pdfs = []\n",
    "#     for url in parts_urls:\n",
    "#         part = pd.read_csv(url)\n",
    "#         part['number_of_pages'] = part['number_of_pages'].fillna(0).astype(int)\n",
    "#         pdfs.append(part)\n",
    "#\n",
    "#     all_pdf = pd.concat(pdfs, ignore_index=True).drop_duplicates(\"ISBN\")\n",
    "#     metadata_df = (\n",
    "#         spark.createDataFrame(all_pdf, schema=final_schema)\n",
    "#              .cache()\n",
    "#     )\n",
    "#\n",
    "# #Otherwise fall back to fetching via Google Books API\n",
    "# else:\n",
    "#     print(\"No GitHub metadata found. Fetching via Google Books API…\")\n",
    "#     GOOGLE_API_KEY = \"\"\n",
    "#     if not GOOGLE_API_KEY:\n",
    "#         raise RuntimeError(\"Please set the GOOGLE_BOOKS_API_KEY env var.\")\n",
    "#\n",
    "#     def build_url(isbn: str) -> str:\n",
    "#         return (\n",
    "#             f\"https://www.googleapis.com/books/v1/volumes\"\n",
    "#             f\"?q=isbn:{isbn}&key={GOOGLE_API_KEY}\"\n",
    "#         )\n",
    "#\n",
    "#     def fetch_single_book_metadata(isbn, max_retries=3, initial_delay=1):\n",
    "#         url   = build_url(isbn)\n",
    "#         delay = initial_delay\n",
    "#         for attempt in range(1, max_retries+1):\n",
    "#             resp = requests.get(url, timeout=15)\n",
    "#             if resp.status_code == 429:\n",
    "#                 ra   = resp.headers.get(\"Retry-After\")\n",
    "#                 wait = float(ra) if ra else delay\n",
    "#                 print(f\"[429] {isbn}, retry {attempt}/{max_retries} in {wait}s\")\n",
    "#                 time.sleep(wait)\n",
    "#                 delay *= 2\n",
    "#                 continue\n",
    "#             try:\n",
    "#                 resp.raise_for_status()\n",
    "#                 data = resp.json()\n",
    "#             except Exception as e:\n",
    "#                 print(f\"[ERROR] {isbn} attempt {attempt}: {e}\")\n",
    "#                 time.sleep(delay)\n",
    "#                 delay *= 2\n",
    "#                 continue\n",
    "#             items = data.get(\"items\")\n",
    "#             if not items:\n",
    "#                 return {\"ISBN\": isbn}\n",
    "#             info  = items[0].get(\"volumeInfo\", {})\n",
    "#             pages = info.get(\"pageCount\")\n",
    "#             try:\n",
    "#                 pages = int(pages) if pages is not None else 0\n",
    "#             except:\n",
    "#                 pages = 0\n",
    "#             time.sleep(0.3)\n",
    "#             return {\n",
    "#                 \"ISBN\":            isbn,\n",
    "#                 \"title\":           info.get(\"title\", \"\"),\n",
    "#                 \"description\":     info.get(\"description\", \"\"),\n",
    "#                 \"authors\":         \", \".join(info.get(\"authors\", [])),\n",
    "#                 \"publish_date\":    info.get(\"publishedDate\", \"\"),\n",
    "#                 \"publisher\":       info.get(\"publisher\", \"\"),\n",
    "#                 \"number_of_pages\": pages,\n",
    "#                 \"subjects\":        \", \".join(info.get(\"categories\", []))\n",
    "#             }\n",
    "#         print(f\"[FAILED] ISBN {isbn} after {max_retries} attempts.\")\n",
    "#         return {\"ISBN\": isbn, \"number_of_pages\": 0}\n",
    "#\n",
    "#     def chunker(seq, size):\n",
    "#         for i in range(0, len(seq), size):\n",
    "#             yield seq[i:i+size]\n",
    "#\n",
    "#     isbn_list = [r.ISBN for r in final_slice.select(\"ISBN\").distinct().collect()]\n",
    "#     batches   = list(chunker(isbn_list, 100))\n",
    "#\n",
    "#     all_results = []\n",
    "#     for idx, batch in enumerate(batches, 1):\n",
    "#         print(f\"Batch {idx}/{len(batches)}: fetching {len(batch)} ISBNs…\")\n",
    "#         with ThreadPoolExecutor(max_workers=2) as exe:\n",
    "#             futures = [exe.submit(fetch_single_book_metadata, isbn) for isbn in batch]\n",
    "#             for fut in as_completed(futures):\n",
    "#                 all_results.append(fut.result())\n",
    "#         time.sleep(10)\n",
    "#\n",
    "#     # save and load via Spark\n",
    "#     local_csv = f\"{OUTPUT_DIR}/metadata_all_local.csv\"\n",
    "#     pd.DataFrame(all_results).to_csv(local_csv, index=False)\n",
    "#     metadata_df = (\n",
    "#         spark.read\n",
    "#              .schema(final_schema)\n",
    "#              .option(\"header\", True)\n",
    "#              .csv(local_csv)\n",
    "#              .cache()\n",
    "#     )\n",
    "#\n",
    "#\n",
    "# print(\"Metadata schema:\")\n",
    "# metadata_df.printSchema()\n",
    "#\n",
    "# preview_cols = [\"ISBN\", \"title\", \"authors\", \"publish_date\", \"number_of_pages\"]\n",
    "#\n",
    "# print(\"Sample metadata (subset of columns):\")\n",
    "# print(pdf[preview_cols]\n",
    "#       .head(5)\n",
    "#       .to_string(index=False))\n",
    "#\n",
    "# print(\"\\n Description snippet (first 150 chars):\")\n",
    "# snippet = pdf[[\"ISBN\", \"description\"]].copy()\n",
    "# snippet[\"desc_snippet\"] = snippet[\"description\"].str.slice(0, 150)\n",
    "# print(snippet[[\"ISBN\", \"desc_snippet\"]]\n",
    "#       .head(5)\n",
    "#       .to_string(index=False))\n"
   ],
   "outputs": [],
   "execution_count": 18
  },
  {
   "cell_type": "code",
   "id": "84c92f77",
   "metadata": {
    "ExecuteTime": {
     "end_time": "2025-07-03T20:02:32.326064Z",
     "start_time": "2025-07-03T20:02:32.320920Z"
    }
   },
   "source": [
    "# from pyspark.sql import SparkSession\n",
    "# import os\n",
    "#\n",
    "# # Define a compatible set of versions\n",
    "# spark_nlp_version = \"5.3.3\" # A stable version for Spark 3.5.x\n",
    "# spark_version_scope = \"3.5\"\n",
    "# nlp_package = f\"com.johnsnowlabs.nlp:spark-nlp-spark{spark_version_scope}_2.12:{spark_nlp_version}\"\n",
    "#\n",
    "# print(f\"Configuring Spark Session to use Spark NLP package: {nlp_package}\")\n",
    "#\n",
    "# # Stop any existing session to ensure a clean start\n",
    "# try:\n",
    "#     SparkSession.builder.getOrCreate().stop()\n",
    "#     print(\"Stopped existing Spark session.\")\n",
    "# except:\n",
    "#     pass\n",
    "#\n",
    "# # Build a new session with the correct Spark NLP package included\n",
    "# spark = SparkSession.builder \\\n",
    "#     .appName(\"SparkNLP_Book_Recommender\") \\\n",
    "#     .master(\"local[*]\") \\\n",
    "#     .config(\"spark.driver.memory\", \"16G\") \\\n",
    "#     .config(\"spark.serializer\", \"org.apache.spark.serializer.KryoSerializer\") \\\n",
    "#     .config(\"spark.kryoserializer.buffer.max\", \"2000M\") \\\n",
    "#     .config(\"spark.driver.maxResultSize\", \"0\") \\\n",
    "#     .config(\"spark.jars.packages\", nlp_package) \\\n",
    "#     .getOrCreate()\n",
    "#\n",
    "# print(\"Spark session configured and started successfully.\")\n",
    "#\n",
    "# import pyspark.sql.functions as F\n",
    "# from pyspark.sql import DataFrame\n",
    "# from pyspark.sql.types import StructType, StructField, StringType, IntegerType\n",
    "# from pyspark.ml import Pipeline\n",
    "#\n",
    "# import sparknlp\n",
    "# from sparknlp.base import *\n",
    "# from sparknlp.annotator import UniversalSentenceEncoder\n",
    "# from pyspark.ml.feature import Normalizer, BucketedRandomProjectionLSH\n",
    "#\n",
    "# print(\"\\n--- Content-Based Recommender Setup ---\")\n",
    "# print(f\"Spark NLP version: {sparknlp.version()}\")\n",
    "# print(f\"Apache Spark version: {spark.version}\")\n",
    "#\n",
    "#\n",
    "# metadata_url = \"https://raw.githubusercontent.com/farhodibr/PROJECT5/main/book_metadata/metadata_all.csv\"\n",
    "# spark.sparkContext.addFile(metadata_url)\n",
    "#\n",
    "# # Now, we can read the file from the path provided by SparkFiles\n",
    "# metadata_filename = os.path.basename(metadata_url)\n",
    "# metadata_path = SparkFiles.get(metadata_filename)\n",
    "#\n",
    "# if not os.path.exists(metadata_path):\n",
    "#     print(f\"ERROR: '{metadata_path}' not found. Please ensure the file is in the correct directory.\")\n",
    "# else:\n",
    "#     final_schema = StructType([\n",
    "#         StructField(\"ISBN\", StringType(), True),\n",
    "#         StructField(\"title\", StringType(), True),\n",
    "#         StructField(\"description\", StringType(), True),\n",
    "#         StructField(\"authors\", StringType(), True),\n",
    "#         StructField(\"publish_date\", StringType(), True),\n",
    "#         StructField(\"publisher\", StringType(), True),\n",
    "#         StructField(\"number_of_pages\", IntegerType(), True),\n",
    "#         StructField(\"subjects\", StringType(), True)\n",
    "#     ])\n",
    "#\n",
    "#     metadata_df = (\n",
    "#         spark.read\n",
    "#              .schema(final_schema)\n",
    "#              .option(\"header\", True)\n",
    "#              .csv(metadata_path)\n",
    "#              .na.fill({\"title\": \"No Title\", \"description\": \"No Description\"}) # Handle potential nulls\n",
    "#              .cache()\n",
    "#     )\n",
    "#     print(\"✅ Book metadata loaded successfully.\")\n",
    "#     metadata_df.select(\"ISBN\", \"title\").show(5, truncate=False)\n",
    "#\n",
    "#     # We will convert book titles and descriptions into numerical vectors (embeddings).\n",
    "#     # Combine title and description into a single feature column\n",
    "#     df_for_nlp = metadata_df.withColumn(\n",
    "#         \"text\",\n",
    "#         F.concat_ws(\" \", F.col(\"title\"), F.col(\"description\"))\n",
    "#     ).filter(F.col(\"text\") != \"No Title No Description\")\n",
    "#\n",
    "#     # Define the Spark NLP pipeline stages\n",
    "#     document_assembler = DocumentAssembler() \\\n",
    "#         .setInputCol(\"text\") \\\n",
    "#         .setOutputCol(\"document\")\n",
    "#\n",
    "#     use = UniversalSentenceEncoder.pretrained() \\\n",
    "#         .setInputCols([\"document\"]) \\\n",
    "#         .setOutputCol(\"sentence_embeddings\")\n",
    "#\n",
    "#     finisher = Finisher() \\\n",
    "#         .setInputCols([\"sentence_embeddings\"]) \\\n",
    "#         .setOutputCols([\"finished_embeddings\"]) \\\n",
    "#         .setOutputAsVector(True)\n",
    "#\n",
    "#     nlp_pipeline = Pipeline(stages=[document_assembler, use, finisher])\n",
    "#\n",
    "#     # Generate the embeddings\n",
    "#     print(\"\\nGenerating book embeddings with Spark NLP (this may take a few minutes)...\")\n",
    "#     embeddings_df = nlp_pipeline.fit(df_for_nlp).transform(df_for_nlp)\n",
    "#\n",
    "#     # Extract the vector from the finished array\n",
    "#     embeddings_df = embeddings_df.withColumn(\"embedding\", F.col(\"finished_embeddings\")[0])\n",
    "#     print(\"✅ Embeddings generated.\")\n",
    "#\n",
    "#\n",
    "#     # Use LSH to Find Similar Books\n",
    "#     # Locality Sensitive Hashing (LSH) is an efficient way to find nearest neighbors.\n",
    "#\n",
    "#     # Normalize embeddings for LSH\n",
    "#     normalizer = Normalizer(inputCol=\"embedding\", outputCol=\"norm_embedding\", p=2.0)\n",
    "#     normalized_df = normalizer.transform(embeddings_df)\n",
    "#\n",
    "#     # Create and train the LSH model\n",
    "#     brp = BucketedRandomProjectionLSH(\n",
    "#         inputCol=\"norm_embedding\",\n",
    "#         outputCol=\"hashes\",\n",
    "#         bucketLength=2.0,\n",
    "#         numHashTables=5\n",
    "#     )\n",
    "#\n",
    "#     print(\"\\nTraining Locality Sensitive Hashing (LSH) model...\")\n",
    "#     lsh_model = brp.fit(normalized_df)\n",
    "#     print(\"✅ LSH model trained.\")\n",
    "#\n",
    "#\n",
    "#     # Create the Recommendation Function\n",
    "#     # This function takes a book title and finds similar books.\n",
    "#\n",
    "#     def get_content_based_recs(book_title: str, num_recs: int = 10) -> DataFrame:\n",
    "#         \"\"\"\n",
    "#         Finds and returns content-based book recommendations for a given book title.\n",
    "#         \"\"\"\n",
    "#         print(\"\\n\" + \"=\"*50)\n",
    "#         print(f\"Finding recommendations for: '{book_title}'\")\n",
    "#         print(\"=\"*50)\n",
    "#\n",
    "#         try:\n",
    "#             # Find the embedding vector for the input book\n",
    "#             book_embedding = normalized_df.filter(F.col(\"title\") == book_title).first()[\"norm_embedding\"]\n",
    "#         except (TypeError, IndexError):\n",
    "#             print(f\"Could not find the book '{book_title}' in the dataset.\")\n",
    "#             return spark.createDataFrame([], schema=\"title STRING, authors STRING, distance FLOAT\")\n",
    "#\n",
    "#         # Use the LSH model to find the most similar items\n",
    "#         print(f\"Searching for the top {num_recs} most similar books...\")\n",
    "#         recommendations_df = lsh_model.approxNearestNeighbors(normalized_df, book_embedding, num_recs + 1)\n",
    "#\n",
    "#         # Format and display the results\n",
    "#         recs = recommendations_df.select(\"title\", \"authors\", F.col(\"distCol\").alias(\"distance\")) \\\n",
    "#                                  .filter(F.col(\"title\") != book_title) \\\n",
    "#                                  .orderBy(\"distance\")\n",
    "#\n",
    "#         if recs.count() == 0:\n",
    "#             print(\"No similar books found.\")\n",
    "#         else:\n",
    "#             print(\"\\n--- Recommendations ---\")\n",
    "#             recs.show(num_recs, truncate=False)\n",
    "#\n",
    "#         return recs\n",
    "#\n",
    "#     # -\n",
    "#     # test content-based recommender directly.\n",
    "#     lost_world_recs = get_content_based_recs(\"The Lost World\")\n",
    "#     beach_recs = get_content_based_recs(\"The Beach\")\n",
    "#\n"
   ],
   "outputs": [],
   "execution_count": 19
  }
 ],
 "metadata": {
  "kernelspec": {
   "display_name": ".venv",
   "language": "python",
   "name": "python3"
  },
  "language_info": {
   "codemirror_mode": {
    "name": "ipython",
    "version": 3
   },
   "file_extension": ".py",
   "mimetype": "text/x-python",
   "name": "python",
   "nbconvert_exporter": "python",
   "pygments_lexer": "ipython3",
   "version": "3.13.3"
  }
 },
 "nbformat": 4,
 "nbformat_minor": 5
}
